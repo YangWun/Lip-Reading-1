{
 "cells": [
  {
   "cell_type": "code",
   "execution_count": 10,
   "metadata": {},
   "outputs": [
    {
     "name": "stdout",
     "output_type": "stream",
     "text": [
      "A1_Anya-lips.mat\nA1_Bill-lips.mat\nA1_Faye-lips.mat\nA1_John-lips.mat\nA1_Kate-lips.mat\nA1_Nicola-lips.mat\nA1_Stephen-lips.mat\nA1_Steve-lips.mat\nA1_Verity-lips.mat\nA1_Yi-lips.mat\nA2_Anya-lips.mat\nA2_Bill-lips.mat\nA2_Faye-lips.mat\nA2_John-lips.mat\nA2_Kate-lips.mat\nA2_Nicola-lips.mat\nA2_Stephen-lips.mat\nA2_Steve-lips.mat\nA2_Verity-lips.mat\nA2_Yi-lips.mat\nA3_Anya-lips.mat\nA3_Bill-lips.mat\nA3_Faye-lips.mat\nA3_John-lips.mat\nA3_Kate-lips.mat\nA3_Nicola-lips.mat\nA3_Stephen-lips.mat\nA3_Steve-lips.mat\nA3_Verity-lips.mat\nA3_Yi-lips.mat\nB1_Anya-lips.mat\nB1_Bill-lips.mat\nB1_Faye-lips.mat\nB1_John-lips.mat\nB1_Kate-lips.mat\nB1_Nicola-lips.mat\nB1_Stephen-lips.mat\nB1_Steve-lips.mat\nB1_Verity-lips.mat\nB1_Yi-lips.mat\nB2_Anya-lips.mat\nB2_Bill-lips.mat\nB2_Faye-lips.mat\nB2_John-lips.mat\nB2_Kate-lips.mat\nB2_Nicola-lips.mat\nB2_Stephen-lips.mat\nB2_Steve-lips.mat\nB2_Verity-lips.mat\nB2_Yi-lips.mat\nB3_Anya-lips.mat\nB3_Bill-lips.mat\nB3_Faye-lips.mat\nB3_John-lips.mat\nB3_Kate-lips.mat\nB3_Nicola-lips.mat\nB3_Stephen-lips.mat\nB3_Steve-lips.mat\nB3_Verity-lips.mat\nB3_Yi-lips.mat\nC1_Anya-lips.mat\nC1_Bill-lips.mat\nC1_Faye-lips.mat\nC1_John-lips.mat\nC1_Kate-lips.mat\nC1_Nicola-lips.mat\nC1_Stephen-lips.mat\nC1_Steve-lips.mat\nC1_Verity-lips.mat\nC1_Yi-lips.mat"
     ]
    },
    {
     "name": "stdout",
     "output_type": "stream",
     "text": [
      "\nC2_Anya-lips.mat\nC2_Bill-lips.mat\nC2_Faye-lips.mat\nC2_John-lips.mat\nC2_Kate-lips.mat\nC2_Nicola-lips.mat\nC2_Stephen-lips.mat\nC2_Steve-lips.mat\nC2_Verity-lips.mat\nC2_Yi-lips.mat\nC3_Anya-lips.mat\nC3_Bill-lips.mat\nC3_Faye-lips.mat\nC3_John-lips.mat\nC3_Kate-lips.mat\nC3_Nicola-lips.mat\nC3_Stephen-lips.mat\nC3_Steve-lips.mat\nC3_Verity-lips.mat\nC3_Yi-lips.mat\nD1_Anya-lips.mat\nD1_Bill-lips.mat\nD1_Faye-lips.mat\nD1_John-lips.mat\nD1_Kate-lips.mat\nD1_Nicola-lips.mat\nD1_Stephen-lips.mat\nD1_Steve-lips.mat\nD1_Verity-lips.mat\nD1_Yi-lips.mat\nD2_Anya-lips.mat\nD2_Bill-lips.mat\nD2_Faye-lips.mat\nD2_John-lips.mat\nD2_Kate-lips.mat\nD2_Nicola-lips.mat\nD2_Stephen-lips.mat\nD2_Steve-lips.mat\nD2_Verity-lips.mat\nD2_Yi-lips.mat\nD3_Anya-lips.mat\nD3_Bill-lips.mat\nD3_Faye-lips.mat\nD3_John-lips.mat\nD3_Kate-lips.mat\nD3_Nicola-lips.mat\nD3_Stephen-lips.mat\nD3_Steve-lips.mat\nD3_Verity-lips.mat\nD3_Yi-lips.mat\nE1_Anya-lips.mat\nE1_Bill-lips.mat\nE1_Faye-lips.mat\nE1_John-lips.mat\nE1_Kate-lips.mat\nE1_Nicola-lips.mat\nE1_Stephen-lips.mat\nE1_Steve-lips.mat\nE1_Verity-lips.mat\nE1_Yi-lips.mat\nE2_Anya-lips.mat\nE2_Bill-lips.mat\nE2_Faye-lips.mat\nE2_John-lips.mat\nE2_Kate-lips.mat\nE2_Nicola-lips.mat\nE2_Stephen-lips.mat\nE2_Steve-lips.mat\nE2_Verity-lips.mat\nE2_Yi-lips.mat\nE3_Anya-lips.mat\nE3_Bill-lips.mat\nE3_Faye-lips.mat\nE3_John-lips.mat\nE3_Kate-lips.mat\nE3_Nicola-lips.mat\nE3_Stephen-lips.mat\nE3_Steve-lips.mat\nE3_Verity-lips.mat\nE3_Yi-lips.mat\nF1_Anya-lips.mat"
     ]
    },
    {
     "name": "stdout",
     "output_type": "stream",
     "text": [
      "\nF1_Bill-lips.mat\nF1_Faye-lips.mat\nF1_John-lips.mat\nF1_Kate-lips.mat\nF1_Nicola-lips.mat\nF1_Stephen-lips.mat\nF1_Steve-lips.mat\nF1_Verity-lips.mat\nF1_Yi-lips.mat\nF2_Anya-lips.mat\nF2_Bill-lips.mat\nF2_Faye-lips.mat\nF2_John-lips.mat\nF2_Kate-lips.mat\nF2_Nicola-lips.mat\nF2_Stephen-lips.mat\nF2_Steve-lips.mat\nF2_Verity-lips.mat\nF2_Yi-lips.mat\nF3_Anya-lips.mat\nF3_Bill-lips.mat\nF3_Faye-lips.mat\nF3_John-lips.mat\nF3_Kate-lips.mat\nF3_Nicola-lips.mat\nF3_Stephen-lips.mat\nF3_Steve-lips.mat\nF3_Verity-lips.mat\nF3_Yi-lips.mat\nG1_Anya-lips.mat\nG1_Bill-lips.mat\nG1_Faye-lips.mat\nG1_John-lips.mat\nG1_Kate-lips.mat\nG1_Nicola-lips.mat\nG1_Stephen-lips.mat\nG1_Steve-lips.mat\nG1_Verity-lips.mat\nG1_Yi-lips.mat\nG2_Anya-lips.mat\nG2_Bill-lips.mat\nG2_Faye-lips.mat\nG2_John-lips.mat\nG2_Kate-lips.mat\nG2_Nicola-lips.mat\nG2_Stephen-lips.mat\nG2_Steve-lips.mat\nG2_Verity-lips.mat\nG2_Yi-lips.mat\nG3_Anya-lips.mat\nG3_Bill-lips.mat\nG3_Faye-lips.mat\nG3_John-lips.mat\nG3_Kate-lips.mat\nG3_Nicola-lips.mat\nG3_Stephen-lips.mat\nG3_Steve-lips.mat\nG3_Verity-lips.mat\nG3_Yi-lips.mat\nH1_Anya-lips.mat\nH1_Bill-lips.mat\nH1_Faye-lips.mat\nH1_John-lips.mat\nH1_Kate-lips.mat\nH1_Nicola-lips.mat\nH1_Stephen-lips.mat\nH1_Steve-lips.mat\nH1_Verity-lips.mat\nH1_Yi-lips.mat\nH2_Anya-lips.mat\nH2_Bill-lips.mat\nH2_Faye-lips.mat\nH2_John-lips.mat\nH2_Kate-lips.mat\nH2_Nicola-lips.mat\nH2_Stephen-lips.mat\nH2_Steve-lips.mat\nH2_Verity-lips.mat\nH2_Yi-lips.mat"
     ]
    },
    {
     "name": "stdout",
     "output_type": "stream",
     "text": [
      "\nH3_Anya-lips.mat\nH3_Bill-lips.mat\nH3_Faye-lips.mat\nH3_John-lips.mat\nH3_Kate-lips.mat\nH3_Nicola-lips.mat\nH3_Stephen-lips.mat\nH3_Steve-lips.mat\nH3_Verity-lips.mat\nH3_Yi-lips.mat\nI1_Anya-lips.mat\nI1_Bill-lips.mat\nI1_Faye-lips.mat\nI1_John-lips.mat\nI1_Kate-lips.mat\nI1_Nicola-lips.mat\nI1_Stephen-lips.mat\nI1_Steve-lips.mat\nI1_Verity-lips.mat\nI1_Yi-lips.mat\nI2_Anya-lips.mat\nI2_Bill-lips.mat\nI2_Faye-lips.mat\nI2_John-lips.mat\nI2_Kate-lips.mat\nI2_Nicola-lips.mat\nI2_Stephen-lips.mat\nI2_Steve-lips.mat\nI2_Verity-lips.mat\nI2_Yi-lips.mat\nI3_Anya-lips.mat\nI3_Bill-lips.mat\nI3_Faye-lips.mat\nI3_John-lips.mat\nI3_Kate-lips.mat\nI3_Nicola-lips.mat\nI3_Stephen-lips.mat\nI3_Steve-lips.mat\nI3_Verity-lips.mat\nI3_Yi-lips.mat\nJ1_Anya-lips.mat\nJ1_Bill-lips.mat\nJ1_Faye-lips.mat\nJ1_John-lips.mat\nJ1_Kate-lips.mat\nJ1_Nicola-lips.mat\nJ1_Stephen-lips.mat\nJ1_Steve-lips.mat\nJ1_Verity-lips.mat\nJ1_Yi-lips.mat\nJ2_Anya-lips.mat\nJ2_Bill-lips.mat\nJ2_Faye-lips.mat\nJ2_John-lips.mat\nJ2_Kate-lips.mat\nJ2_Nicola-lips.mat\nJ2_Stephen-lips.mat\nJ2_Steve-lips.mat\nJ2_Verity-lips.mat\nJ2_Yi-lips.mat\nJ3_Anya-lips.mat\nJ3_Bill-lips.mat\nJ3_Faye-lips.mat\nJ3_John-lips.mat\nJ3_Kate-lips.mat\nJ3_Nicola-lips.mat\nJ3_Stephen-lips.mat\nJ3_Steve-lips.mat\nJ3_Verity-lips.mat\nJ3_Yi-lips.mat\nK1_Anya-lips.mat\nK1_Bill-lips.mat\nK1_Faye-lips.mat\nK1_John-lips.mat\nK1_Kate-lips.mat\nK1_Nicola-lips.mat\nK1_Stephen-lips.mat"
     ]
    },
    {
     "name": "stdout",
     "output_type": "stream",
     "text": [
      "\nK1_Steve-lips.mat\nK1_Verity-lips.mat\nK1_Yi-lips.mat\nK2_Anya-lips.mat\nK2_Bill-lips.mat\nK2_Faye-lips.mat\nK2_John-lips.mat\nK2_Kate-lips.mat\nK2_Nicola-lips.mat\nK2_Stephen-lips.mat\nK2_Steve-lips.mat\nK2_Verity-lips.mat\nK2_Yi-lips.mat\nK3_Anya-lips.mat\nK3_Bill-lips.mat\nK3_Faye-lips.mat\nK3_John-lips.mat\nK3_Kate-lips.mat\nK3_Nicola-lips.mat\nK3_Stephen-lips.mat\nK3_Steve-lips.mat\nK3_Verity-lips.mat\nK3_Yi-lips.mat\nL1_Anya-lips.mat\nL1_Bill-lips.mat\nL1_Faye-lips.mat\nL1_John-lips.mat\nL1_Kate-lips.mat\nL1_Nicola-lips.mat\nL1_Stephen-lips.mat\nL1_Steve-lips.mat\nL1_Verity-lips.mat\nL1_Yi-lips.mat\nL2_Anya-lips.mat\nL2_Bill-lips.mat\nL2_Faye-lips.mat\nL2_John-lips.mat\nL2_Kate-lips.mat\nL2_Nicola-lips.mat\nL2_Stephen-lips.mat\nL2_Steve-lips.mat\nL2_Verity-lips.mat\nL2_Yi-lips.mat\nL3_Anya-lips.mat\nL3_Bill-lips.mat\nL3_Faye-lips.mat\nL3_John-lips.mat\nL3_Kate-lips.mat\nL3_Nicola-lips.mat\nL3_Stephen-lips.mat\nL3_Steve-lips.mat\nL3_Verity-lips.mat\nL3_Yi-lips.mat\nM1_Anya-lips.mat\nM1_Bill-lips.mat\nM1_Faye-lips.mat\nM1_John-lips.mat\nM1_Kate-lips.mat\nM1_Nicola-lips.mat\nM1_Stephen-lips.mat\nM1_Steve-lips.mat\nM1_Verity-lips.mat\nM1_Yi-lips.mat\nM2_Anya-lips.mat\nM2_Bill-lips.mat\nM2_Faye-lips.mat\nM2_John-lips.mat\nM2_Kate-lips.mat\nM2_Nicola-lips.mat\nM2_Stephen-lips.mat\nM2_Steve-lips.mat\nM2_Verity-lips.mat\nM2_Yi-lips.mat\nM3_Anya-lips.mat\nM3_Bill-lips.mat\nM3_Faye-lips.mat\nM3_John-lips.mat\nM3_Kate-lips.mat\nM3_Nicola-lips.mat\nM3_Stephen-lips.mat\nM3_Steve-lips.mat\nM3_Verity-lips.mat\nM3_Yi-lips.mat"
     ]
    },
    {
     "name": "stdout",
     "output_type": "stream",
     "text": [
      "\nN1_Anya-lips.mat\nN1_Bill-lips.mat\nN1_Faye-lips.mat\nN1_John-lips.mat\nN1_Kate-lips.mat\nN1_Nicola-lips.mat\nN1_Stephen-lips.mat\nN1_Steve-lips.mat\nN1_Verity-lips.mat\nN1_Yi-lips.mat\nN2_Anya-lips.mat\nN2_Bill-lips.mat\nN2_Faye-lips.mat\nN2_John-lips.mat\nN2_Kate-lips.mat\nN2_Nicola-lips.mat\nN2_Stephen-lips.mat\nN2_Steve-lips.mat\nN2_Verity-lips.mat\nN2_Yi-lips.mat\nN3_Anya-lips.mat\nN3_Bill-lips.mat\nN3_Faye-lips.mat\nN3_John-lips.mat\nN3_Kate-lips.mat\nN3_Nicola-lips.mat\nN3_Stephen-lips.mat\nN3_Steve-lips.mat\nN3_Verity-lips.mat\nN3_Yi-lips.mat\nO1_Anya-lips.mat\nO1_Bill-lips.mat\nO1_Faye-lips.mat\nO1_John-lips.mat\nO1_Kate-lips.mat\nO1_Nicola-lips.mat\nO1_Stephen-lips.mat\nO1_Steve-lips.mat\nO1_Verity-lips.mat\nO1_Yi-lips.mat\nO2_Anya-lips.mat\nO2_Bill-lips.mat\nO2_Faye-lips.mat\nO2_John-lips.mat\nO2_Kate-lips.mat\nO2_Nicola-lips.mat\nO2_Stephen-lips.mat\nO2_Steve-lips.mat\nO2_Verity-lips.mat\nO2_Yi-lips.mat\nO3_Anya-lips.mat\nO3_Bill-lips.mat\nO3_Faye-lips.mat\nO3_John-lips.mat\nO3_Kate-lips.mat\nO3_Nicola-lips.mat\nO3_Stephen-lips.mat\nO3_Steve-lips.mat\nO3_Verity-lips.mat\nO3_Yi-lips.mat\nP1_Anya-lips.mat\nP1_Bill-lips.mat\nP1_Faye-lips.mat\nP1_John-lips.mat\nP1_Kate-lips.mat\nP1_Nicola-lips.mat\nP1_Stephen-lips.mat\nP1_Steve-lips.mat\nP1_Verity-lips.mat\nP1_Yi-lips.mat\nP2_Anya-lips.mat\nP2_Bill-lips.mat\nP2_Faye-lips.mat\nP2_John-lips.mat\nP2_Kate-lips.mat\nP2_Nicola-lips.mat\nP2_Stephen-lips.mat\nP2_Steve-lips.mat\nP2_Verity-lips.mat\nP2_Yi-lips.mat\nP3_Anya-lips.mat\nP3_Bill-lips.mat"
     ]
    },
    {
     "name": "stdout",
     "output_type": "stream",
     "text": [
      "\nP3_Faye-lips.mat\nP3_John-lips.mat\nP3_Kate-lips.mat\nP3_Nicola-lips.mat\nP3_Stephen-lips.mat\nP3_Steve-lips.mat\nP3_Verity-lips.mat\nP3_Yi-lips.mat\nQ1_Anya-lips.mat\nQ1_Bill-lips.mat\nQ1_Faye-lips.mat\nQ1_John-lips.mat\nQ1_Kate-lips.mat\nQ1_Nicola-lips.mat\nQ1_Stephen-lips.mat\nQ1_Steve-lips.mat\nQ1_Verity-lips.mat\nQ1_Yi-lips.mat\nQ2_Anya-lips.mat\nQ2_Bill-lips.mat\nQ2_Faye-lips.mat\nQ2_John-lips.mat\nQ2_Kate-lips.mat\nQ2_Nicola-lips.mat\nQ2_Stephen-lips.mat\nQ2_Steve-lips.mat\nQ2_Verity-lips.mat\nQ2_Yi-lips.mat\nQ3_Anya-lips.mat\nQ3_Bill-lips.mat\nQ3_Faye-lips.mat\nQ3_John-lips.mat\nQ3_Kate-lips.mat\nQ3_Nicola-lips.mat\nQ3_Stephen-lips.mat\nQ3_Steve-lips.mat\nQ3_Verity-lips.mat\nQ3_Yi-lips.mat\nR1_Anya-lips.mat\nR1_Bill-lips.mat\nR1_Faye-lips.mat\nR1_John-lips.mat\nR1_Kate-lips.mat\nR1_Nicola-lips.mat\nR1_Stephen-lips.mat\nR1_Steve-lips.mat\nR1_Verity-lips.mat\nR1_Yi-lips.mat\nR2_Anya-lips.mat\nR2_Bill-lips.mat\nR2_Faye-lips.mat\nR2_John-lips.mat\nR2_Kate-lips.mat\nR2_Nicola-lips.mat\nR2_Stephen-lips.mat\nR2_Steve-lips.mat\nR2_Verity-lips.mat\nR2_Yi-lips.mat\nR3_Anya-lips.mat\nR3_Bill-lips.mat\nR3_Faye-lips.mat\nR3_John-lips.mat\nR3_Kate-lips.mat\nR3_Nicola-lips.mat\nR3_Stephen-lips.mat\nR3_Steve-lips.mat\nR3_Verity-lips.mat\nR3_Yi-lips.mat\nS1_Anya-lips.mat\nS1_Bill-lips.mat\nS1_Faye-lips.mat\nS1_John-lips.mat\nS1_Kate-lips.mat\nS1_Nicola-lips.mat\nS1_Stephen-lips.mat\nS1_Steve-lips.mat\nS1_Verity-lips.mat\nS1_Yi-lips.mat\nS2_Anya-lips.mat\nS2_Bill-lips.mat\nS2_Faye-lips.mat\nS2_John-lips.mat\nS2_Kate-lips.mat\nS2_Nicola-lips.mat"
     ]
    },
    {
     "name": "stdout",
     "output_type": "stream",
     "text": [
      "\nS2_Stephen-lips.mat\nS2_Steve-lips.mat\nS2_Verity-lips.mat\nS2_Yi-lips.mat\nS3_Anya-lips.mat\nS3_Bill-lips.mat\nS3_Faye-lips.mat\nS3_John-lips.mat\nS3_Kate-lips.mat\nS3_Nicola-lips.mat\nS3_Stephen-lips.mat\nS3_Steve-lips.mat\nS3_Verity-lips.mat\nS3_Yi-lips.mat\nT1_Anya-lips.mat\nT1_Bill-lips.mat\nT1_Faye-lips.mat\nT1_John-lips.mat\nT1_Kate-lips.mat\nT1_Nicola-lips.mat\nT1_Stephen-lips.mat\nT1_Steve-lips.mat\nT1_Verity-lips.mat\nT1_Yi-lips.mat\nT2_Anya-lips.mat\nT2_Bill-lips.mat\nT2_Faye-lips.mat\nT2_John-lips.mat\nT2_Kate-lips.mat\nT2_Nicola-lips.mat\nT2_Stephen-lips.mat\nT2_Steve-lips.mat\nT2_Verity-lips.mat\nT2_Yi-lips.mat\nT3_Anya-lips.mat\nT3_Bill-lips.mat\nT3_Faye-lips.mat\nT3_John-lips.mat\nT3_Kate-lips.mat\nT3_Nicola-lips.mat\nT3_Stephen-lips.mat\nT3_Steve-lips.mat\nT3_Verity-lips.mat\nT3_Yi-lips.mat\nU1_Anya-lips.mat\nU1_Bill-lips.mat\nU1_Faye-lips.mat\nU1_John-lips.mat\nU1_Kate-lips.mat\nU1_Nicola-lips.mat\nU1_Stephen-lips.mat\nU1_Steve-lips.mat\nU1_Verity-lips.mat\nU1_Yi-lips.mat\nU2_Anya-lips.mat\nU2_Bill-lips.mat\nU2_Faye-lips.mat\nU2_John-lips.mat\nU2_Kate-lips.mat\nU2_Nicola-lips.mat\nU2_Stephen-lips.mat\nU2_Steve-lips.mat\nU2_Verity-lips.mat\nU2_Yi-lips.mat\nU3_Anya-lips.mat\nU3_Bill-lips.mat\nU3_Faye-lips.mat\nU3_John-lips.mat\nU3_Kate-lips.mat\nU3_Nicola-lips.mat\nU3_Stephen-lips.mat\nU3_Steve-lips.mat\nU3_Verity-lips.mat\nU3_Yi-lips.mat\nV1_Anya-lips.mat\nV1_Bill-lips.mat\nV1_Faye-lips.mat\nV1_John-lips.mat\nV1_Kate-lips.mat\nV1_Nicola-lips.mat\nV1_Stephen-lips.mat\nV1_Steve-lips.mat"
     ]
    },
    {
     "name": "stdout",
     "output_type": "stream",
     "text": [
      "\nV1_Verity-lips.mat\nV1_Yi-lips.mat\nV2_Anya-lips.mat\nV2_Bill-lips.mat\nV2_Faye-lips.mat\nV2_John-lips.mat\nV2_Kate-lips.mat\nV2_Nicola-lips.mat\nV2_Stephen-lips.mat\nV2_Steve-lips.mat\nV2_Verity-lips.mat\nV2_Yi-lips.mat\nV3_Anya-lips.mat\nV3_Bill-lips.mat\nV3_Faye-lips.mat\nV3_John-lips.mat\nV3_Kate-lips.mat\nV3_Nicola-lips.mat\nV3_Stephen-lips.mat\nV3_Steve-lips.mat\nV3_Verity-lips.mat\nV3_Yi-lips.mat\nW1_Anya-lips.mat\nW1_Bill-lips.mat\nW1_Faye-lips.mat\nW1_John-lips.mat\nW1_Kate-lips.mat\nW1_Nicola-lips.mat\nW1_Stephen-lips.mat\nW1_Steve-lips.mat\nW1_Verity-lips.mat\nW1_Yi-lips.mat\nW2_Anya-lips.mat\nW2_Bill-lips.mat\nW2_Faye-lips.mat\nW2_John-lips.mat\nW2_Kate-lips.mat\nW2_Nicola-lips.mat\nW2_Stephen-lips.mat\nW2_Steve-lips.mat\nW2_Verity-lips.mat\nW2_Yi-lips.mat\nW3_Anya-lips.mat\nW3_Bill-lips.mat\nW3_Faye-lips.mat\nW3_John-lips.mat\nW3_Kate-lips.mat\nW3_Nicola-lips.mat\nW3_Stephen-lips.mat\nW3_Steve-lips.mat\nW3_Verity-lips.mat\nW3_Yi-lips.mat\nX1_Anya-lips.mat\nX1_Bill-lips.mat\nX1_Faye-lips.mat\nX1_John-lips.mat\nX1_Kate-lips.mat\nX1_Nicola-lips.mat\nX1_Stephen-lips.mat\nX1_Steve-lips.mat\nX1_Verity-lips.mat\nX1_Yi-lips.mat\nX2_Anya-lips.mat\nX2_Bill-lips.mat\nX2_Faye-lips.mat\nX2_John-lips.mat\nX2_Kate-lips.mat\nX2_Nicola-lips.mat\nX2_Stephen-lips.mat\nX2_Steve-lips.mat\nX2_Verity-lips.mat\nX2_Yi-lips.mat\nX3_Anya-lips.mat\nX3_Bill-lips.mat\nX3_Faye-lips.mat\nX3_John-lips.mat\nX3_Kate-lips.mat\nX3_Nicola-lips.mat\nX3_Stephen-lips.mat\nX3_Steve-lips.mat\nX3_Verity-lips.mat\nX3_Yi-lips.mat"
     ]
    },
    {
     "name": "stdout",
     "output_type": "stream",
     "text": [
      "\nY1_Anya-lips.mat\nY1_Bill-lips.mat\nY1_Faye-lips.mat\nY1_John-lips.mat\nY1_Kate-lips.mat\nY1_Nicola-lips.mat\nY1_Stephen-lips.mat\nY1_Steve-lips.mat\nY1_Verity-lips.mat\nY1_Yi-lips.mat\nY2_Anya-lips.mat\nY2_Bill-lips.mat\nY2_Faye-lips.mat\nY2_John-lips.mat\nY2_Kate-lips.mat\nY2_Nicola-lips.mat\nY2_Stephen-lips.mat\nY2_Steve-lips.mat\nY2_Verity-lips.mat\nY2_Yi-lips.mat\nY3_Anya-lips.mat\nY3_Bill-lips.mat\nY3_Faye-lips.mat\nY3_John-lips.mat\nY3_Kate-lips.mat\nY3_Nicola-lips.mat\nY3_Stephen-lips.mat\nY3_Steve-lips.mat\nY3_Verity-lips.mat\nY3_Yi-lips.mat\nZ1_Anya-lips.mat\nZ1_Bill-lips.mat\nZ1_Faye-lips.mat\nZ1_John-lips.mat\nZ1_Kate-lips.mat\nZ1_Nicola-lips.mat\nZ1_Stephen-lips.mat\nZ1_Steve-lips.mat\nZ1_Verity-lips.mat\nZ1_Yi-lips.mat\nZ2_Anya-lips.mat\nZ2_Bill-lips.mat\nZ2_Faye-lips.mat\nZ2_John-lips.mat\nZ2_Kate-lips.mat\nZ2_Nicola-lips.mat\nZ2_Stephen-lips.mat\nZ2_Steve-lips.mat\nZ2_Verity-lips.mat\nZ2_Yi-lips.mat\nZ3_Anya-lips.mat\nZ3_Bill-lips.mat\nZ3_Faye-lips.mat\nZ3_John-lips.mat\nZ3_Kate-lips.mat\nZ3_Nicola-lips.mat\nZ3_Stephen-lips.mat\nZ3_Steve-lips.mat\nZ3_Verity-lips.mat\nZ3_Yi-lips.mat\n.DS_Store\nA1_Anya-lips.mat\nA1_Bill-lips.mat\nA1_Faye-lips.mat\nA1_John-lips.mat\nA1_Kate-lips.mat\nA1_Nicola-lips.mat\nA1_Stephen-lips.mat\nA1_Steve-lips.mat\nA1_Verity-lips.mat\nA1_Yi-lips.mat\nA2_Anya-lips.mat\nA2_Bill-lips.mat\nA2_Faye-lips.mat\nA2_John-lips.mat\nA2_Kate-lips.mat\nA2_Nicola-lips.mat\nA2_Stephen-lips.mat\nA2_Steve-lips.mat\nA2_Verity-lips.mat\nA2_Yi-lips.mat\nA3_Anya-lips.mat\nA3_Bill-lips.mat\nA3_Faye-lips.mat\nA3_John-lips.mat\nA3_Kate-lips.mat\nA3_Nicola-lips.mat\nA3_Stephen-lips.mat\nA3_Steve-lips.mat\nA3_Verity-lips.mat\nA3_Yi-lips.mat\nB1_Anya-lips.mat\nB1_Bill-lips.mat\nB1_Faye-lips.mat\nB1_John-lips.mat\nB1_Kate-lips.mat\nB1_Nicola-lips.mat\nB1_Stephen-lips.mat\nB1_Steve-lips.mat\nB1_Verity-lips.mat\nB1_Yi-lips.mat\nB2_Anya-lips.mat\nB2_Bill-lips.mat\nB2_Faye-lips.mat\nB2_John-lips.mat\nB2_Kate-lips.mat\nB2_Nicola-lips.mat\nB2_Stephen-lips.mat\nB2_Steve-lips.mat\nB2_Verity-lips.mat\nB2_Yi-lips.mat\nB3_Anya-lips.mat\nB3_Bill-lips.mat\nB3_Faye-lips.mat\nB3_John-lips.mat\nB3_Kate-lips.mat\nB3_Nicola-lips.mat\nB3_Stephen-lips.mat\nB3_Steve-lips.mat\nB3_Verity-lips.mat\nB3_Yi-lips.mat\nC1_Anya-lips.mat\nC1_Bill-lips.mat\nC1_Faye-lips.mat\nC1_John-lips.mat\nC1_Kate-lips.mat\nC1_Nicola-lips.mat\nC1_Stephen-lips.mat\nC1_Steve-lips.mat\nC1_Verity-lips.mat\nC1_Yi-lips.mat\nC2_Anya-lips.mat\nC2_Bill-lips.mat\nC2_Faye-lips.mat\nC2_John-lips.mat\nC2_Kate-lips.mat\nC2_Nicola-lips.mat\nC2_Stephen-lips.mat\nC2_Steve-lips.mat\nC2_Verity-lips.mat\nC2_Yi-lips.mat\nC3_Anya-lips.mat\nC3_Bill-lips.mat\nC3_Faye-lips.mat\nC3_John-lips.mat\nC3_Kate-lips.mat\nC3_Nicola-lips.mat\nC3_Stephen-lips.mat\nC3_Steve-lips.mat\nC3_Verity-lips.mat\nC3_Yi-lips.mat\nD1_Anya-lips.mat\nD1_Bill-lips.mat\nD1_Faye-lips.mat\nD1_John-lips.mat\nD1_Kate-lips.mat\nD1_Nicola-lips.mat\nD1_Stephen-lips.mat\nD1_Steve-lips.mat\nD1_Verity-lips.mat\nD1_Yi-lips.mat\nD2_Anya-lips.mat\nD2_Bill-lips.mat\nD2_Faye-lips.mat\nD2_John-lips.mat\nD2_Kate-lips.mat\nD2_Nicola-lips.mat\nD2_Stephen-lips.mat\nD2_Steve-lips.mat\nD2_Verity-lips.mat\nD2_Yi-lips.mat\nD3_Anya-lips.mat\nD3_Bill-lips.mat\nD3_Faye-lips.mat\nD3_John-lips.mat\nD3_Kate-lips.mat\nD3_Nicola-lips.mat\nD3_Stephen-lips.mat\nD3_Steve-lips.mat\nD3_Verity-lips.mat\nD3_Yi-lips.mat\nE1_Anya-lips.mat\nE1_Bill-lips.mat\nE1_Faye-lips.mat\nE1_John-lips.mat\nE1_Kate-lips.mat\nE1_Nicola-lips.mat\nE1_Stephen-lips.mat\nE1_Steve-lips.mat\nE1_Verity-lips.mat\nE1_Yi-lips.mat\nE2_Anya-lips.mat\nE2_Bill-lips.mat\nE2_Faye-lips.mat\nE2_John-lips.mat\nE2_Kate-lips.mat\nE2_Nicola-lips.mat\nE2_Stephen-lips.mat\nE2_Steve-lips.mat\nE2_Verity-lips.mat\nE2_Yi-lips.mat\nE3_Anya-lips.mat\nE3_Bill-lips.mat\nE3_Faye-lips.mat\nE3_John-lips.mat\nE3_Kate-lips.mat\nE3_Nicola-lips.mat\nE3_Stephen-lips.mat\nE3_Steve-lips.mat\nE3_Verity-lips.mat\nE3_Yi-lips.mat\nF1_Anya-lips.mat\nF1_Bill-lips.mat\nF1_Faye-lips.mat\nF1_John-lips.mat\nF1_Kate-lips.mat\nF1_Nicola-lips.mat\nF1_Stephen-lips.mat\nF1_Steve-lips.mat\nF1_Verity-lips.mat\nF1_Yi-lips.mat\nF2_Anya-lips.mat\nF2_Bill-lips.mat\nF2_Faye-lips.mat\nF2_John-lips.mat\nF2_Kate-lips.mat\nF2_Nicola-lips.mat\nF2_Stephen-lips.mat\nF2_Steve-lips.mat\nF2_Verity-lips.mat\nF2_Yi-lips.mat\nF3_Anya-lips.mat\nF3_Bill-lips.mat\nF3_Faye-lips.mat\nF3_John-lips.mat\nF3_Kate-lips.mat\nF3_Nicola-lips.mat\nF3_Stephen-lips.mat\nF3_Steve-lips.mat\nF3_Verity-lips.mat\nF3_Yi-lips.mat\nG1_Anya-lips.mat\nG1_Bill-lips.mat\nG1_Faye-lips.mat\nG1_John-lips.mat\nG1_Kate-lips.mat\nG1_Nicola-lips.mat\nG1_Stephen-lips.mat\nG1_Steve-lips.mat\nG1_Verity-lips.mat\nG1_Yi-lips.mat\nG2_Anya-lips.mat\nG2_Bill-lips.mat\nG2_Faye-lips.mat\nG2_John-lips.mat\nG2_Kate-lips.mat\nG2_Nicola-lips.mat\nG2_Stephen-lips.mat\nG2_Steve-lips.mat\nG2_Verity-lips.mat\nG2_Yi-lips.mat\nG3_Anya-lips.mat\nG3_Bill-lips.mat\nG3_Faye-lips.mat\nG3_John-lips.mat\nG3_Kate-lips.mat\nG3_Nicola-lips.mat\nG3_Stephen-lips.mat\nG3_Steve-lips.mat\nG3_Verity-lips.mat\nG3_Yi-lips.mat\nH1_Anya-lips.mat\nH1_Bill-lips.mat\nH1_Faye-lips.mat\nH1_John-lips.mat\nH1_Kate-lips.mat\nH1_Nicola-lips.mat\nH1_Stephen-lips.mat\nH1_Steve-lips.mat\nH1_Verity-lips.mat\nH1_Yi-lips.mat\nH2_Anya-lips.mat\nH2_Bill-lips.mat\nH2_Faye-lips.mat\nH2_John-lips.mat\nH2_Kate-lips.mat\nH2_Nicola-lips.mat\nH2_Stephen-lips.mat\nH2_Steve-lips.mat\nH2_Verity-lips.mat\nH2_Yi-lips.mat\nH3_Anya-lips.mat\nH3_Bill-lips.mat\nH3_Faye-lips.mat\nH3_John-lips.mat\nH3_Kate-lips.mat\nH3_Nicola-lips.mat\nH3_Stephen-lips.mat\nH3_Steve-lips.mat\nH3_Verity-lips.mat\nH3_Yi-lips.mat\nI1_Anya-lips.mat\nI1_Bill-lips.mat\nI1_Faye-lips.mat\nI1_John-lips.mat\nI1_Kate-lips.mat\nI1_Nicola-lips.mat\nI1_Stephen-lips.mat\nI1_Steve-lips.mat\nI1_Verity-lips.mat\nI1_Yi-lips.mat\nI2_Anya-lips.mat\nI2_Bill-lips.mat\nI2_Faye-lips.mat\nI2_John-lips.mat\nI2_Kate-lips.mat\nI2_Nicola-lips.mat\nI2_Stephen-lips.mat\nI2_Steve-lips.mat\nI2_Verity-lips.mat\nI2_Yi-lips.mat\nI3_Anya-lips.mat\nI3_Bill-lips.mat\nI3_Faye-lips.mat\nI3_John-lips.mat\nI3_Kate-lips.mat\nI3_Nicola-lips.mat\nI3_Stephen-lips.mat\nI3_Steve-lips.mat\nI3_Verity-lips.mat\nI3_Yi-lips.mat\nJ1_Anya-lips.mat\nJ1_Bill-lips.mat\nJ1_Faye-lips.mat\nJ1_John-lips.mat\nJ1_Kate-lips.mat\nJ1_Nicola-lips.mat\nJ1_Stephen-lips.mat\nJ1_Steve-lips.mat\nJ1_Verity-lips.mat\nJ1_Yi-lips.mat\nJ2_Anya-lips.mat\nJ2_Bill-lips.mat\nJ2_Faye-lips.mat\nJ2_John-lips.mat\nJ2_Kate-lips.mat\nJ2_Nicola-lips.mat\nJ2_Stephen-lips.mat\nJ2_Steve-lips.mat\nJ2_Verity-lips.mat\nJ2_Yi-lips.mat\nJ3_Anya-lips.mat\nJ3_Bill-lips.mat\nJ3_Faye-lips.mat\nJ3_John-lips.mat\nJ3_Kate-lips.mat\nJ3_Nicola-lips.mat\nJ3_Stephen-lips.mat\nJ3_Steve-lips.mat\nJ3_Verity-lips.mat\nJ3_Yi-lips.mat\nK1_Anya-lips.mat\nK1_Bill-lips.mat\nK1_Faye-lips.mat\nK1_John-lips.mat\nK1_Kate-lips.mat\nK1_Nicola-lips.mat\nK1_Stephen-lips.mat\nK1_Steve-lips.mat\nK1_Verity-lips.mat\nK1_Yi-lips.mat\nK2_Anya-lips.mat\nK2_Bill-lips.mat\nK2_Faye-lips.mat\nK2_John-lips.mat\nK2_Kate-lips.mat\nK2_Nicola-lips.mat\nK2_Stephen-lips.mat\nK2_Steve-lips.mat\nK2_Verity-lips.mat\nK2_Yi-lips.mat\nK3_Anya-lips.mat\nK3_Bill-lips.mat\nK3_Faye-lips.mat\nK3_John-lips.mat\nK3_Kate-lips.mat\nK3_Nicola-lips.mat\nK3_Stephen-lips.mat\nK3_Steve-lips.mat\nK3_Verity-lips.mat\nK3_Yi-lips.mat\nL1_Anya-lips.mat\nL1_Bill-lips.mat\nL1_Faye-lips.mat\nL1_John-lips.mat\nL1_Kate-lips.mat\nL1_Nicola-lips.mat\nL1_Stephen-lips.mat\nL1_Steve-lips.mat\nL1_Verity-lips.mat\nL1_Yi-lips.mat\nL2_Anya-lips.mat\nL2_Bill-lips.mat\nL2_Faye-lips.mat\nL2_John-lips.mat\nL2_Kate-lips.mat\nL2_Nicola-lips.mat\nL2_Stephen-lips.mat\nL2_Steve-lips.mat\nL2_Verity-lips.mat\nL2_Yi-lips.mat\nL3_Anya-lips.mat\nL3_Bill-lips.mat\nL3_Faye-lips.mat\nL3_John-lips.mat\nL3_Kate-lips.mat\nL3_Nicola-lips.mat\nL3_Stephen-lips.mat\nL3_Steve-lips.mat\nL3_Verity-lips.mat\nL3_Yi-lips.mat\nM1_Anya-lips.mat\nM1_Bill-lips.mat\nM1_Faye-lips.mat\nM1_John-lips.mat\nM1_Kate-lips.mat\nM1_Nicola-lips.mat\nM1_Stephen-lips.mat\nM1_Steve-lips.mat\nM1_Verity-lips.mat\nM1_Yi-lips.mat\nM2_Anya-lips.mat\nM2_Bill-lips.mat\nM2_Faye-lips.mat\nM2_John-lips.mat\nM2_Kate-lips.mat\nM2_Nicola-lips.mat\nM2_Stephen-lips.mat\nM2_Steve-lips.mat\nM2_Verity-lips.mat\nM2_Yi-lips.mat\nM3_Anya-lips.mat\nM3_Bill-lips.mat\nM3_Faye-lips.mat\nM3_John-lips.mat\nM3_Kate-lips.mat\nM3_Nicola-lips.mat\nM3_Stephen-lips.mat\nM3_Steve-lips.mat\nM3_Verity-lips.mat\nM3_Yi-lips.mat\nN1_Anya-lips.mat\nN1_Bill-lips.mat\nN1_Faye-lips.mat\nN1_John-lips.mat\nN1_Kate-lips.mat\nN1_Nicola-lips.mat\nN1_Stephen-lips.mat\nN1_Steve-lips.mat\nN1_Verity-lips.mat\nN1_Yi-lips.mat\nN2_Anya-lips.mat\nN2_Bill-lips.mat\nN2_Faye-lips.mat\nN2_John-lips.mat\nN2_Kate-lips.mat\nN2_Nicola-lips.mat\nN2_Stephen-lips.mat\nN2_Steve-lips.mat\nN2_Verity-lips.mat\nN2_Yi-lips.mat\nN3_Anya-lips.mat\nN3_Bill-lips.mat\nN3_Faye-lips.mat\nN3_John-lips.mat\nN3_Kate-lips.mat\nN3_Nicola-lips.mat\nN3_Stephen-lips.mat\nN3_Steve-lips.mat\nN3_Verity-lips.mat\nN3_Yi-lips.mat\nO1_Anya-lips.mat\nO1_Bill-lips.mat\nO1_Faye-lips.mat\nO1_John-lips.mat\nO1_Kate-lips.mat\nO1_Nicola-lips.mat\nO1_Stephen-lips.mat\nO1_Steve-lips.mat\nO1_Verity-lips.mat\nO1_Yi-lips.mat\nO2_Anya-lips.mat\nO2_Bill-lips.mat\nO2_Faye-lips.mat\nO2_John-lips.mat\nO2_Kate-lips.mat\nO2_Nicola-lips.mat\nO2_Stephen-lips.mat\nO2_Steve-lips.mat\nO2_Verity-lips.mat\nO2_Yi-lips.mat\nO3_Anya-lips.mat\nO3_Bill-lips.mat\nO3_Faye-lips.mat\nO3_John-lips.mat\nO3_Kate-lips.mat\nO3_Nicola-lips.mat\nO3_Stephen-lips.mat\nO3_Steve-lips.mat\nO3_Verity-lips.mat\nO3_Yi-lips.mat\nP1_Anya-lips.mat\nP1_Bill-lips.mat\nP1_Faye-lips.mat\nP1_John-lips.mat\nP1_Kate-lips.mat\nP1_Nicola-lips.mat\nP1_Stephen-lips.mat\nP1_Steve-lips.mat\nP1_Verity-lips.mat\nP1_Yi-lips.mat\nP2_Anya-lips.mat\nP2_Bill-lips.mat\nP2_Faye-lips.mat\nP2_John-lips.mat\nP2_Kate-lips.mat\nP2_Nicola-lips.mat\nP2_Stephen-lips.mat\nP2_Steve-lips.mat\nP2_Verity-lips.mat\nP2_Yi-lips.mat\nP3_Anya-lips.mat\nP3_Bill-lips.mat\nP3_Faye-lips.mat\nP3_John-lips.mat\nP3_Kate-lips.mat\nP3_Nicola-lips.mat\nP3_Stephen-lips.mat\nP3_Steve-lips.mat\nP3_Verity-lips.mat\nP3_Yi-lips.mat\nQ1_Anya-lips.mat\nQ1_Bill-lips.mat\nQ1_Faye-lips.mat\nQ1_John-lips.mat\nQ1_Kate-lips.mat\nQ1_Nicola-lips.mat\nQ1_Stephen-lips.mat\nQ1_Steve-lips.mat\nQ1_Verity-lips.mat\nQ1_Yi-lips.mat\nQ2_Anya-lips.mat\nQ2_Bill-lips.mat\nQ2_Faye-lips.mat\nQ2_John-lips.mat\nQ2_Kate-lips.mat\nQ2_Nicola-lips.mat\nQ2_Stephen-lips.mat\nQ2_Steve-lips.mat\nQ2_Verity-lips.mat\nQ2_Yi-lips.mat\nQ3_Anya-lips.mat\nQ3_Bill-lips.mat\nQ3_Faye-lips.mat\nQ3_John-lips.mat\nQ3_Kate-lips.mat\nQ3_Nicola-lips.mat\nQ3_Stephen-lips.mat\nQ3_Steve-lips.mat\nQ3_Verity-lips.mat\nQ3_Yi-lips.mat\nR1_Anya-lips.mat\nR1_Bill-lips.mat\nR1_Faye-lips.mat\nR1_John-lips.mat\nR1_Kate-lips.mat\nR1_Nicola-lips.mat\nR1_Stephen-lips.mat\nR1_Steve-lips.mat\nR1_Verity-lips.mat\nR1_Yi-lips.mat\nR2_Anya-lips.mat\nR2_Bill-lips.mat\nR2_Faye-lips.mat\nR2_John-lips.mat\nR2_Kate-lips.mat\nR2_Nicola-lips.mat\nR2_Stephen-lips.mat\nR2_Steve-lips.mat\nR2_Verity-lips.mat\nR2_Yi-lips.mat\nR3_Anya-lips.mat\nR3_Bill-lips.mat\nR3_Faye-lips.mat\nR3_John-lips.mat\nR3_Kate-lips.mat\nR3_Nicola-lips.mat\nR3_Stephen-lips.mat\nR3_Steve-lips.mat\nR3_Verity-lips.mat\nR3_Yi-lips.mat\nS1_Anya-lips.mat\nS1_Bill-lips.mat\nS1_Faye-lips.mat\nS1_John-lips.mat\nS1_Kate-lips.mat\nS1_Nicola-lips.mat\nS1_Stephen-lips.mat\nS1_Steve-lips.mat\nS1_Verity-lips.mat\nS1_Yi-lips.mat\nS2_Anya-lips.mat\nS2_Bill-lips.mat\nS2_Faye-lips.mat\nS2_John-lips.mat\nS2_Kate-lips.mat\nS2_Nicola-lips.mat\nS2_Stephen-lips.mat\nS2_Steve-lips.mat\nS2_Verity-lips.mat\nS2_Yi-lips.mat\nS3_Anya-lips.mat\nS3_Bill-lips.mat\nS3_Faye-lips.mat\nS3_John-lips.mat\nS3_Kate-lips.mat\nS3_Nicola-lips.mat\nS3_Stephen-lips.mat\nS3_Steve-lips.mat\nS3_Verity-lips.mat\nS3_Yi-lips.mat\nT1_Anya-lips.mat\nT1_Bill-lips.mat\nT1_Faye-lips.mat\nT1_John-lips.mat\nT1_Kate-lips.mat\nT1_Nicola-lips.mat\nT1_Stephen-lips.mat\nT1_Steve-lips.mat\nT1_Verity-lips.mat\nT1_Yi-lips.mat\nT2_Anya-lips.mat\nT2_Bill-lips.mat\nT2_Faye-lips.mat\nT2_John-lips.mat\nT2_Kate-lips.mat\nT2_Nicola-lips.mat\nT2_Stephen-lips.mat\nT2_Steve-lips.mat\nT2_Verity-lips.mat\nT2_Yi-lips.mat\nT3_Anya-lips.mat\nT3_Bill-lips.mat\nT3_Faye-lips.mat\nT3_John-lips.mat\nT3_Kate-lips.mat\nT3_Nicola-lips.mat\nT3_Stephen-lips.mat\nT3_Steve-lips.mat\nT3_Verity-lips.mat\nT3_Yi-lips.mat\nU1_Anya-lips.mat\nU1_Bill-lips.mat\nU1_Faye-lips.mat\nU1_John-lips.mat\nU1_Kate-lips.mat\nU1_Nicola-lips.mat\nU1_Stephen-lips.mat\nU1_Steve-lips.mat\nU1_Verity-lips.mat\nU1_Yi-lips.mat\nU2_Anya-lips.mat\nU2_Bill-lips.mat\nU2_Faye-lips.mat\nU2_John-lips.mat\nU2_Kate-lips.mat\nU2_Nicola-lips.mat\nU2_Stephen-lips.mat\nU2_Steve-lips.mat\nU2_Verity-lips.mat\nU2_Yi-lips.mat\nU3_Anya-lips.mat\nU3_Bill-lips.mat\nU3_Faye-lips.mat\nU3_John-lips.mat\nU3_Kate-lips.mat\nU3_Nicola-lips.mat\nU3_Stephen-lips.mat\nU3_Steve-lips.mat\nU3_Verity-lips.mat\nU3_Yi-lips.mat\nV1_Anya-lips.mat\nV1_Bill-lips.mat\nV1_Faye-lips.mat\nV1_John-lips.mat\nV1_Kate-lips.mat\nV1_Nicola-lips.mat\nV1_Stephen-lips.mat\nV1_Steve-lips.mat\nV1_Verity-lips.mat\nV1_Yi-lips.mat\nV2_Anya-lips.mat\nV2_Bill-lips.mat\nV2_Faye-lips.mat\nV2_John-lips.mat\nV2_Kate-lips.mat\nV2_Nicola-lips.mat\nV2_Stephen-lips.mat\nV2_Steve-lips.mat\nV2_Verity-lips.mat\nV2_Yi-lips.mat\nV3_Anya-lips.mat\nV3_Bill-lips.mat\nV3_Faye-lips.mat\nV3_John-lips.mat\nV3_Kate-lips.mat\nV3_Nicola-lips.mat\nV3_Stephen-lips.mat\nV3_Steve-lips.mat\nV3_Verity-lips.mat\nV3_Yi-lips.mat\nW1_Anya-lips.mat\nW1_Bill-lips.mat\nW1_Faye-lips.mat\nW1_John-lips.mat\nW1_Kate-lips.mat\nW1_Nicola-lips.mat\nW1_Stephen-lips.mat\nW1_Steve-lips.mat\nW1_Verity-lips.mat\nW1_Yi-lips.mat\nW2_Anya-lips.mat\nW2_Bill-lips.mat\nW2_Faye-lips.mat\nW2_John-lips.mat\nW2_Kate-lips.mat\nW2_Nicola-lips.mat\nW2_Stephen-lips.mat\nW2_Steve-lips.mat\nW2_Verity-lips.mat\nW2_Yi-lips.mat\nW3_Anya-lips.mat\nW3_Bill-lips.mat\nW3_Faye-lips.mat\nW3_John-lips.mat\nW3_Kate-lips.mat\nW3_Nicola-lips.mat\nW3_Stephen-lips.mat\nW3_Steve-lips.mat\nW3_Verity-lips.mat\nW3_Yi-lips.mat\nX1_Anya-lips.mat\nX1_Bill-lips.mat\nX1_Faye-lips.mat\nX1_John-lips.mat\nX1_Kate-lips.mat\nX1_Nicola-lips.mat\nX1_Stephen-lips.mat\nX1_Steve-lips.mat\nX1_Verity-lips.mat\nX1_Yi-lips.mat\nX2_Anya-lips.mat\nX2_Bill-lips.mat\nX2_Faye-lips.mat\nX2_John-lips.mat\nX2_Kate-lips.mat\nX2_Nicola-lips.mat\nX2_Stephen-lips.mat\nX2_Steve-lips.mat\nX2_Verity-lips.mat\nX2_Yi-lips.mat\nX3_Anya-lips.mat\nX3_Bill-lips.mat\nX3_Faye-lips.mat\nX3_John-lips.mat\nX3_Kate-lips.mat\nX3_Nicola-lips.mat\nX3_Stephen-lips.mat\nX3_Steve-lips.mat\nX3_Verity-lips.mat\nX3_Yi-lips.mat\nY1_Anya-lips.mat\nY1_Bill-lips.mat\nY1_Faye-lips.mat\nY1_John-lips.mat\nY1_Kate-lips.mat\nY1_Nicola-lips.mat\nY1_Stephen-lips.mat\nY1_Steve-lips.mat\nY1_Verity-lips.mat\nY1_Yi-lips.mat\nY2_Anya-lips.mat\nY2_Bill-lips.mat\nY2_Faye-lips.mat\nY2_John-lips.mat\nY2_Kate-lips.mat\nY2_Nicola-lips.mat\nY2_Stephen-lips.mat\nY2_Steve-lips.mat\nY2_Verity-lips.mat\nY2_Yi-lips.mat\nY3_Anya-lips.mat\nY3_Bill-lips.mat\nY3_Faye-lips.mat\nY3_John-lips.mat\nY3_Kate-lips.mat\nY3_Nicola-lips.mat\nY3_Stephen-lips.mat\nY3_Steve-lips.mat\nY3_Verity-lips.mat\nY3_Yi-lips.mat\nZ1_Anya-lips.mat\nZ1_Bill-lips.mat\nZ1_Faye-lips.mat\nZ1_John-lips.mat\nZ1_Kate-lips.mat\nZ1_Nicola-lips.mat\nZ1_Stephen-lips.mat\nZ1_Steve-lips.mat\nZ1_Verity-lips.mat\nZ1_Yi-lips.mat\nZ2_Anya-lips.mat\nZ2_Bill-lips.mat\nZ2_Faye-lips.mat\nZ2_John-lips.mat\nZ2_Kate-lips.mat\nZ2_Nicola-lips.mat\nZ2_Stephen-lips.mat\nZ2_Steve-lips.mat\nZ2_Verity-lips.mat\nZ2_Yi-lips.mat\nZ3_Anya-lips.mat\nZ3_Bill-lips.mat\nZ3_Faye-lips.mat\nZ3_John-lips.mat\nZ3_Kate-lips.mat\nZ3_Nicola-lips.mat\nZ3_Stephen-lips.mat\nZ3_Steve-lips.mat\nZ3_Verity-lips.mat\nZ3_Yi-lips.mat\nTrain on 100 samples, validate on 100 samples"
     ]
    },
    {
     "name": "stdout",
     "output_type": "stream",
     "text": [
      "\nEpoch 1/12\n\r 10/100 [==>...........................] - ETA: 0s - loss: 1.2050 - acc: 0.7000"
     ]
    },
    {
     "name": "stdout",
     "output_type": "stream",
     "text": [
      "\b\b\b\b\b\b\b\b\b\b\b\b\b\b\b\b\b\b\b\b\b\b\b\b\b\b\b\b\b\b\b\b\b\b\b\b\b\b\b\b\b\b\b\b\b\b\b\b\b\b\b\b\b\b\b\b\b\b\b\b\b\b\b\b\b\b\b\b\b\b\b\b\b\b\b\b\b\b\b\r 20/100 [=====>........................] - ETA: 0s - loss: 39.6404 - acc: 0.3500"
     ]
    },
    {
     "name": "stdout",
     "output_type": "stream",
     "text": [
      "\b\b\b\b\b\b\b\b\b\b\b\b\b\b\b\b\b\b\b\b\b\b\b\b\b\b\b\b\b\b\b\b\b\b\b\b\b\b\b\b\b\b\b\b\b\b\b\b\b\b\b\b\b\b\b\b\b\b\b\b\b\b\b\b\b\b\b\b\b\b\b\b\b\b\b\b\b\b\b\b\r 30/100 [========>.....................] - ETA: 0s - loss: 59.7197 - acc: 0.2333"
     ]
    },
    {
     "name": "stdout",
     "output_type": "stream",
     "text": [
      "\b\b\b\b\b\b\b\b\b\b\b\b\b\b\b\b\b\b\b\b\b\b\b\b\b\b\b\b\b\b\b\b\b\b\b\b\b\b\b\b\b\b\b\b\b\b\b\b\b\b\b\b\b\b\b\b\b\b\b\b\b\b\b\b\b\b\b\b\b\b\b\b\b\b\b\b\b\b\b\b\r 40/100 [===========>..................] - ETA: 0s - loss: 82.9510 - acc: 0.1750"
     ]
    },
    {
     "name": "stdout",
     "output_type": "stream",
     "text": [
      "\b\b\b\b\b\b\b\b\b\b\b\b\b\b\b\b\b\b\b\b\b\b\b\b\b\b\b\b\b\b\b\b\b\b\b\b\b\b\b\b\b\b\b\b\b\b\b\b\b\b\b\b\b\b\b\b\b\b\b\b\b\b\b\b\b\b\b\b\b\b\b\b\b\b\b\b\b\b\b\b\r 50/100 [==============>...............] - ETA: 0s - loss: 127.1393 - acc: 0.1400"
     ]
    },
    {
     "name": "stdout",
     "output_type": "stream",
     "text": [
      "\b\b\b\b\b\b\b\b\b\b\b\b\b\b\b\b\b\b\b\b\b\b\b\b\b\b\b\b\b\b\b\b\b\b\b\b\b\b\b\b\b\b\b\b\b\b\b\b\b\b\b\b\b\b\b\b\b\b\b\b\b\b\b\b\b\b\b\b\b\b\b\b\b\b\b\b\b\b\b\b\b\r 60/100 [=================>............] - ETA: 0s - loss: 132.1706 - acc: 0.1167"
     ]
    },
    {
     "name": "stdout",
     "output_type": "stream",
     "text": [
      "\b\b\b\b\b\b\b\b\b\b\b\b\b\b\b\b\b\b\b\b\b\b\b\b\b\b\b\b\b\b\b\b\b\b\b\b\b\b\b\b\b\b\b\b\b\b\b\b\b\b\b\b\b\b\b\b\b\b\b\b\b\b\b\b\b\b\b\b\b\b\b\b\b\b\b\b\b\b\b\b\b\r 70/100 [====================>.........] - ETA: 0s - loss: 143.7941 - acc: 0.1000"
     ]
    },
    {
     "name": "stdout",
     "output_type": "stream",
     "text": [
      "\b\b\b\b\b\b\b\b\b\b\b\b\b\b\b\b\b\b\b\b\b\b\b\b\b\b\b\b\b\b\b\b\b\b\b\b\b\b\b\b\b\b\b\b\b\b\b\b\b\b\b\b\b\b\b\b\b\b\b\b\b\b\b\b\b\b\b\b\b\b\b\b\b\b\b\b\b\b\b\b\b\r 80/100 [=======================>......] - ETA: 0s - loss: 155.7418 - acc: 0.0875"
     ]
    },
    {
     "name": "stdout",
     "output_type": "stream",
     "text": [
      "\b\b\b\b\b\b\b\b\b\b\b\b\b\b\b\b\b\b\b\b\b\b\b\b\b\b\b\b\b\b\b\b\b\b\b\b\b\b\b\b\b\b\b\b\b\b\b\b\b\b\b\b\b\b\b\b\b\b\b\b\b\b\b\b\b\b\b\b\b\b\b\b\b\b\b\b\b\b\b\b\b\r 90/100 [==========================>...] - ETA: 0s - loss: 174.1067 - acc: 0.0778"
     ]
    },
    {
     "name": "stdout",
     "output_type": "stream",
     "text": [
      "\b\b\b\b\b\b\b\b\b\b\b\b\b\b\b\b\b\b\b\b\b\b\b\b\b\b\b\b\b\b\b\b\b\b\b\b\b\b\b\b\b\b\b\b\b\b\b\b\b\b\b\b\b\b\b\b\b\b\b\b\b\b\b\b\b\b\b\b\b\b\b\b\b\b\b\b\b\b\b\b\b\r100/100 [==============================] - 0s - loss: 214.4331 - acc: 0.0700 - val_loss: 7.7754 - val_acc: 0.0000e+00"
     ]
    },
    {
     "name": "stdout",
     "output_type": "stream",
     "text": [
      "\nEpoch 2/12\n\r 10/100 [==>...........................] - ETA: 0s - loss: 109.4660 - acc: 0.0000e+00"
     ]
    },
    {
     "name": "stdout",
     "output_type": "stream",
     "text": [
      "\b\b\b\b\b\b\b\b\b\b\b\b\b\b\b\b\b\b\b\b\b\b\b\b\b\b\b\b\b\b\b\b\b\b\b\b\b\b\b\b\b\b\b\b\b\b\b\b\b\b\b\b\b\b\b\b\b\b\b\b\b\b\b\b\b\b\b\b\b\b\b\b\b\b\b\b\b\b\b\b\b\b\b\b\b\r 20/100 [=====>........................] - ETA: 0s - loss: 424.0809 - acc: 0.0000e+00"
     ]
    },
    {
     "name": "stdout",
     "output_type": "stream",
     "text": [
      "\b\b\b\b\b\b\b\b\b\b\b\b\b\b\b\b\b\b\b\b\b\b\b\b\b\b\b\b\b\b\b\b\b\b\b\b\b\b\b\b\b\b\b\b\b\b\b\b\b\b\b\b\b\b\b\b\b\b\b\b\b\b\b\b\b\b\b\b\b\b\b\b\b\b\b\b\b\b\b\b\b\b\b\b\b\r 30/100 [========>.....................] - ETA: 0s - loss: 1294.9158 - acc: 0.0000e+00"
     ]
    },
    {
     "name": "stdout",
     "output_type": "stream",
     "text": [
      "\b\b\b\b\b\b\b\b\b\b\b\b\b\b\b\b\b\b\b\b\b\b\b\b\b\b\b\b\b\b\b\b\b\b\b\b\b\b\b\b\b\b\b\b\b\b\b\b\b\b\b\b\b\b\b\b\b\b\b\b\b\b\b\b\b\b\b\b\b\b\b\b\b\b\b\b\b\b\b\b\b\b\b\b\b\b\r 40/100 [===========>..................] - ETA: 0s - loss: 2622.9172 - acc: 0.0000e+00"
     ]
    },
    {
     "name": "stdout",
     "output_type": "stream",
     "text": [
      "\b\b\b\b\b\b\b\b\b\b\b\b\b\b\b\b\b\b\b\b\b\b\b\b\b\b\b\b\b\b\b\b\b\b\b\b\b\b\b\b\b\b\b\b\b\b\b\b\b\b\b\b\b\b\b\b\b\b\b\b\b\b\b\b\b\b\b\b\b\b\b\b\b\b\b\b\b\b\b\b\b\b\b\b\b\b\r 50/100 [==============>...............] - ETA: 0s - loss: 3147.5932 - acc: 0.0000e+00"
     ]
    },
    {
     "name": "stdout",
     "output_type": "stream",
     "text": [
      "\b\b\b\b\b\b\b\b\b\b\b\b\b\b\b\b\b\b\b\b\b\b\b\b\b\b\b\b\b\b\b\b\b\b\b\b\b\b\b\b\b\b\b\b\b\b\b\b\b\b\b\b\b\b\b\b\b\b\b\b\b\b\b\b\b\b\b\b\b\b\b\b\b\b\b\b\b\b\b\b\b\b\b\b\b\b\r 60/100 [=================>............] - ETA: 0s - loss: 157930.7965 - acc: 0.0000e+00"
     ]
    },
    {
     "name": "stdout",
     "output_type": "stream",
     "text": [
      "\b\b\b\b\b\b\b\b\b\b\b\b\b\b\b\b\b\b\b\b\b\b\b\b\b\b\b\b\b\b\b\b\b\b\b\b\b\b\b\b\b\b\b\b\b\b\b\b\b\b\b\b\b\b\b\b\b\b\b\b\b\b\b\b\b\b\b\b\b\b\b\b\b\b\b\b\b\b\b\b\b\b\b\b\b\b\b\b\r 70/100 [====================>.........] - ETA: 0s - loss: 161268.6068 - acc: 0.0000e+00"
     ]
    },
    {
     "name": "stdout",
     "output_type": "stream",
     "text": [
      "\b\b\b\b\b\b\b\b\b\b\b\b\b\b\b\b\b\b\b\b\b\b\b\b\b\b\b\b\b\b\b\b\b\b\b\b\b\b\b\b\b\b\b\b\b\b\b\b\b\b\b\b\b\b\b\b\b\b\b\b\b\b\b\b\b\b\b\b\b\b\b\b\b\b\b\b\b\b\b\b\b\b\b\b\b\b\b\b\r 80/100 [=======================>......] - ETA: 0s - loss: 506341.7184 - acc: 0.0000e+00"
     ]
    },
    {
     "name": "stdout",
     "output_type": "stream",
     "text": [
      "\b\b\b\b\b\b\b\b\b\b\b\b\b\b\b\b\b\b\b\b\b\b\b\b\b\b\b\b\b\b\b\b\b\b\b\b\b\b\b\b\b\b\b\b\b\b\b\b\b\b\b\b\b\b\b\b\b\b\b\b\b\b\b\b\b\b\b\b\b\b\b\b\b\b\b\b\b\b\b\b\b\b\b\b\b\b\b\b\r 90/100 [==========================>...] - ETA: 0s - loss: 80220883.3053 - acc: 0.0000e+00"
     ]
    },
    {
     "name": "stdout",
     "output_type": "stream",
     "text": [
      "\b\b\b\b\b\b\b\b\b\b\b\b\b\b\b\b\b\b\b\b\b\b\b\b\b\b\b\b\b\b\b\b\b\b\b\b\b\b\b\b\b\b\b\b\b\b\b\b\b\b\b\b\b\b\b\b\b\b\b\b\b\b\b\b\b\b\b\b\b\b\b\b\b\b\b\b\b\b\b\b\b\b\b\b\b\b\b\b\b\b\r100/100 [==============================] - 0s - loss: 621751793.3747 - acc: 0.0000e+00 - val_loss: 225008466.7702 - val_acc: 0.0000e+00"
     ]
    },
    {
     "name": "stdout",
     "output_type": "stream",
     "text": [
      "\nEpoch 3/12\n\r 10/100 [==>...........................] - ETA: 0s - loss: 5557224960.0000 - acc: 0.0000e+00"
     ]
    },
    {
     "name": "stdout",
     "output_type": "stream",
     "text": [
      "\b\b\b\b\b\b\b\b\b\b\b\b\b\b\b\b\b\b\b\b\b\b\b\b\b\b\b\b\b\b\b\b\b\b\b\b\b\b\b\b\b\b\b\b\b\b\b\b\b\b\b\b\b\b\b\b\b\b\b\b\b\b\b\b\b\b\b\b\b\b\b\b\b\b\b\b\b\b\b\b\b\b\b\b\b\b\b\b\b\b\b\b\r 20/100 [=====>........................] - ETA: 0s - loss: 14022835968.0000 - acc: 0.0000e+00"
     ]
    },
    {
     "name": "stdout",
     "output_type": "stream",
     "text": [
      "\b\b\b\b\b\b\b\b\b\b\b\b\b\b\b\b\b\b\b\b\b\b\b\b\b\b\b\b\b\b\b\b\b\b\b\b\b\b\b\b\b\b\b\b\b\b\b\b\b\b\b\b\b\b\b\b\b\b\b\b\b\b\b\b\b\b\b\b\b\b\b\b\b\b\b\b\b\b\b\b\b\b\b\b\b\b\b\b\b\b\b\b\b\r 30/100 [========>.....................] - ETA: 0s - loss: 332560968192.0000 - acc: 0.0000e+00"
     ]
    },
    {
     "name": "stdout",
     "output_type": "stream",
     "text": [
      "\b\b\b\b\b\b\b\b\b\b\b\b\b\b\b\b\b\b\b\b\b\b\b\b\b\b\b\b\b\b\b\b\b\b\b\b\b\b\b\b\b\b\b\b\b\b\b\b\b\b\b\b\b\b\b\b\b\b\b\b\b\b\b\b\b\b\b\b\b\b\b\b\b\b\b\b\b\b\b\b\b\b\b\b\b\b\b\b\b\b\b\b\b\b\r 40/100 [===========>..................] - ETA: 0s - loss: 10757144199040.0000 - acc: 0.0000e+00"
     ]
    },
    {
     "name": "stdout",
     "output_type": "stream",
     "text": [
      "\b\b\b\b\b\b\b\b\b\b\b\b\b\b\b\b\b\b\b\b\b\b\b\b\b\b\b\b\b\b\b\b\b\b\b\b\b\b\b\b\b\b\b\b\b\b\b\b\b\b\b\b\b\b\b\b\b\b\b\b\b\b\b\b\b\b\b\b\b\b\b\b\b\b\b\b\b\b\b\b\b\b\b\b\b\b\b\b\b\b\b\b\b\b\b\b\r 50/100 [==============>...............] - ETA: 0s - loss: 13175874296115.1992 - acc: 0.0000e+00"
     ]
    },
    {
     "name": "stdout",
     "output_type": "stream",
     "text": [
      "\b\b\b\b\b\b\b\b\b\b\b\b\b\b\b\b\b\b\b\b\b\b\b\b\b\b\b\b\b\b\b\b\b\b\b\b\b\b\b\b\b\b\b\b\b\b\b\b\b\b\b\b\b\b\b\b\b\b\b\b\b\b\b\b\b\b\b\b\b\b\b\b\b\b\b\b\b\b\b\b\b\b\b\b\b\b\b\b\b\b\b\b\b\b\b\b\r 60/100 [=================>............] - ETA: 0s - loss: 213041731960746.6562 - acc: 0.0000e+00"
     ]
    },
    {
     "name": "stdout",
     "output_type": "stream",
     "text": [
      "\b\b\b\b\b\b\b\b\b\b\b\b\b\b\b\b\b\b\b\b\b\b\b\b\b\b\b\b\b\b\b\b\b\b\b\b\b\b\b\b\b\b\b\b\b\b\b\b\b\b\b\b\b\b\b\b\b\b\b\b\b\b\b\b\b\b\b\b\b\b\b\b\b\b\b\b\b\b\b\b\b\b\b\b\b\b\b\b\b\b\b\b\b\b\b\b\b\r 70/100 [====================>.........] - ETA: 0s - loss: 325052885790061.6875 - acc: 0.0000e+00"
     ]
    },
    {
     "name": "stdout",
     "output_type": "stream",
     "text": [
      "\b\b\b\b\b\b\b\b\b\b\b\b\b\b\b\b\b\b\b\b\b\b\b\b\b\b\b\b\b\b\b\b\b\b\b\b\b\b\b\b\b\b\b\b\b\b\b\b\b\b\b\b\b\b\b\b\b\b\b\b\b\b\b\b\b\b\b\b\b\b\b\b\b\b\b\b\b\b\b\b\b\b\b\b\b\b\b\b\b\b\b\b\b\b\b\b\b\r 80/100 [=======================>......] - ETA: 0s - loss: 1921100704456640.0000 - acc: 0.0000e+00"
     ]
    },
    {
     "name": "stdout",
     "output_type": "stream",
     "text": [
      "\b\b\b\b\b\b\b\b\b\b\b\b\b\b\b\b\b\b\b\b\b\b\b\b\b\b\b\b\b\b\b\b\b\b\b\b\b\b\b\b\b\b\b\b\b\b\b\b\b\b\b\b\b\b\b\b\b\b\b\b\b\b\b\b\b\b\b\b\b\b\b\b\b\b\b\b\b\b\b\b\b\b\b\b\b\b\b\b\b\b\b\b\b\b\b\b\b\b\r 90/100 [==========================>...] - ETA: 0s - loss: 1707645189648853.2500 - acc: 0.0000e+00"
     ]
    },
    {
     "name": "stdout",
     "output_type": "stream",
     "text": [
      "\b\b\b\b\b\b\b\b\b\b\b\b\b\b\b\b\b\b\b\b\b\b\b\b\b\b\b\b\b\b\b\b\b\b\b\b\b\b\b\b\b\b\b\b\b\b\b\b\b\b\b\b\b\b\b\b\b\b\b\b\b\b\b\b\b\b\b\b\b\b\b\b\b\b\b\b\b\b\b\b\b\b\b\b\b\b\b\b\b\b\b\b\b\b\b\b\b\b\r100/100 [==============================] - 0s - loss: 1646731881519526.5000 - acc: 0.0000e+00 - val_loss: 13630388284870042.0000 - val_acc: 0.0000e+00"
     ]
    },
    {
     "name": "stdout",
     "output_type": "stream",
     "text": [
      "\nEpoch 4/12\n\r 10/100 [==>...........................] - ETA: 0s - loss: 500345170085019648.0000 - acc: 0.0000e+00"
     ]
    },
    {
     "name": "stdout",
     "output_type": "stream",
     "text": [
      "\b\b\b\b\b\b\b\b\b\b\b\b\b\b\b\b\b\b\b\b\b\b\b\b\b\b\b\b\b\b\b\b\b\b\b\b\b\b\b\b\b\b\b\b\b\b\b\b\b\b\b\b\b\b\b\b\b\b\b\b\b\b\b\b\b\b\b\b\b\b\b\b\b\b\b\b\b\b\b\b\b\b\b\b\b\b\b\b\b\b\b\b\b\b\b\b\b\b\b\b\r 20/100 [=====>........................] - ETA: 0s - loss: 3413758908735422464.0000 - acc: 0.0000e+00"
     ]
    },
    {
     "name": "stdout",
     "output_type": "stream",
     "text": [
      "\b\b\b\b\b\b\b\b\b\b\b\b\b\b\b\b\b\b\b\b\b\b\b\b\b\b\b\b\b\b\b\b\b\b\b\b\b\b\b\b\b\b\b\b\b\b\b\b\b\b\b\b\b\b\b\b\b\b\b\b\b\b\b\b\b\b\b\b\b\b\b\b\b\b\b\b\b\b\b\b\b\b\b\b\b\b\b\b\b\b\b\b\b\b\b\b\b\b\b\b\b\r 30/100 [========>.....................] - ETA: 0s - loss: 54765685821648404480.0000 - acc: 0.0000e+00"
     ]
    },
    {
     "name": "stdout",
     "output_type": "stream",
     "text": [
      "\b\b\b\b\b\b\b\b\b\b\b\b\b\b\b\b\b\b\b\b\b\b\b\b\b\b\b\b\b\b\b\b\b\b\b\b\b\b\b\b\b\b\b\b\b\b\b\b\b\b\b\b\b\b\b\b\b\b\b\b\b\b\b\b\b\b\b\b\b\b\b\b\b\b\b\b\b\b\b\b\b\b\b\b\b\b\b\b\b\b\b\b\b\b\b\b\b\b\b\b\b\b\r 40/100 [===========>..................] - ETA: 0s - loss: 56125021642024812544.0000 - acc: 0.0000e+00"
     ]
    },
    {
     "name": "stdout",
     "output_type": "stream",
     "text": [
      "\b\b\b\b\b\b\b\b\b\b\b\b\b\b\b\b\b\b\b\b\b\b\b\b\b\b\b\b\b\b\b\b\b\b\b\b\b\b\b\b\b\b\b\b\b\b\b\b\b\b\b\b\b\b\b\b\b\b\b\b\b\b\b\b\b\b\b\b\b\b\b\b\b\b\b\b\b\b\b\b\b\b\b\b\b\b\b\b\b\b\b\b\b\b\b\b\b\b\b\b\b\b\r 50/100 [==============>...............] - ETA: 0s - loss: 494222350696523300864.0000 - acc: 0.0000e+00"
     ]
    },
    {
     "name": "stdout",
     "output_type": "stream",
     "text": [
      "\b\b\b\b\b\b\b\b\b\b\b\b\b\b\b\b\b\b\b\b\b\b\b\b\b\b\b\b\b\b\b\b\b\b\b\b\b\b\b\b\b\b\b\b\b\b\b\b\b\b\b\b\b\b\b\b\b\b\b\b\b\b\b\b\b\b\b\b\b\b\b\b\b\b\b\b\b\b\b\b\b\b\b\b\b\b\b\b\b\b\b\b\b\b\b\b\b\b\b\b\b\b\b\r 60/100 [=================>............] - ETA: 0s - loss: 435789196397646643200.0000 - acc: 0.0000e+00"
     ]
    },
    {
     "name": "stdout",
     "output_type": "stream",
     "text": [
      "\b\b\b\b\b\b\b\b\b\b\b\b\b\b\b\b\b\b\b\b\b\b\b\b\b\b\b\b\b\b\b\b\b\b\b\b\b\b\b\b\b\b\b\b\b\b\b\b\b\b\b\b\b\b\b\b\b\b\b\b\b\b\b\b\b\b\b\b\b\b\b\b\b\b\b\b\b\b\b\b\b\b\b\b\b\b\b\b\b\b\b\b\b\b\b\b\b\b\b\b\b\b\b\r 70/100 [====================>.........] - ETA: 0s - loss: 10989381323010231762944.0000 - acc: 0.0000e+00"
     ]
    },
    {
     "name": "stdout",
     "output_type": "stream",
     "text": [
      "\b\b\b\b\b\b\b\b\b\b\b\b\b\b\b\b\b\b\b\b\b\b\b\b\b\b\b\b\b\b\b\b\b\b\b\b\b\b\b\b\b\b\b\b\b\b\b\b\b\b\b\b\b\b\b\b\b\b\b\b\b\b\b\b\b\b\b\b\b\b\b\b\b\b\b\b\b\b\b\b\b\b\b\b\b\b\b\b\b\b\b\b\b\b\b\b\b\b\b\b\b\b\b\b\b\r 80/100 [=======================>......] - ETA: 0s - loss: 98671824237097910272000.0000 - acc: 0.0000e+00"
     ]
    },
    {
     "name": "stdout",
     "output_type": "stream",
     "text": [
      "\b\b\b\b\b\b\b\b\b\b\b\b\b\b\b\b\b\b\b\b\b\b\b\b\b\b\b\b\b\b\b\b\b\b\b\b\b\b\b\b\b\b\b\b\b\b\b\b\b\b\b\b\b\b\b\b\b\b\b\b\b\b\b\b\b\b\b\b\b\b\b\b\b\b\b\b\b\b\b\b\b\b\b\b\b\b\b\b\b\b\b\b\b\b\b\b\b\b\b\b\b\b\b\b\b\r 90/100 [==========================>...] - ETA: 0s - loss: 91671576729429737472000.0000 - acc: 0.0000e+00"
     ]
    },
    {
     "name": "stdout",
     "output_type": "stream",
     "text": [
      "\b\b\b\b\b\b\b\b\b\b\b\b\b\b\b\b\b\b\b\b\b\b\b\b\b\b\b\b\b\b\b\b\b\b\b\b\b\b\b\b\b\b\b\b\b\b\b\b\b\b\b\b\b\b\b\b\b\b\b\b\b\b\b\b\b\b\b\b\b\b\b\b\b\b\b\b\b\b\b\b\b\b\b\b\b\b\b\b\b\b\b\b\b\b\b\b\b\b\b\b\b\b\b\b\b\r100/100 [==============================] - 0s - loss: 89214434373017612058624.0000 - acc: 0.0000e+00 - val_loss: 4044119538958781440.0000 - val_acc: 0.0000e+00"
     ]
    },
    {
     "name": "stdout",
     "output_type": "stream",
     "text": [
      "\nEpoch 5/12\n\r 10/100 [==>...........................] - ETA: 0s - loss: 208225846319753723904.0000 - acc: 0.0000e+00"
     ]
    },
    {
     "name": "stdout",
     "output_type": "stream",
     "text": [
      "\b\b\b\b\b\b\b\b\b\b\b\b\b\b\b\b\b\b\b\b\b\b\b\b\b\b\b\b\b\b\b\b\b\b\b\b\b\b\b\b\b\b\b\b\b\b\b\b\b\b\b\b\b\b\b\b\b\b\b\b\b\b\b\b\b\b\b\b\b\b\b\b\b\b\b\b\b\b\b\b\b\b\b\b\b\b\b\b\b\b\b\b\b\b\b\b\b\b\b\b\b\b\b\r 20/100 [=====>........................] - ETA: 0s - loss: 137039379951349923840.0000 - acc: 0.0000e+00"
     ]
    },
    {
     "name": "stdout",
     "output_type": "stream",
     "text": [
      "\b\b\b\b\b\b\b\b\b\b\b\b\b\b\b\b\b\b\b\b\b\b\b\b\b\b\b\b\b\b\b\b\b\b\b\b\b\b\b\b\b\b\b\b\b\b\b\b\b\b\b\b\b\b\b\b\b\b\b\b\b\b\b\b\b\b\b\b\b\b\b\b\b\b\b\b\b\b\b\b\b\b\b\b\b\b\b\b\b\b\b\b\b\b\b\b\b\b\b\b\b\b\b\r 30/100 [========>.....................] - ETA: 0s - loss: 96435845269202223104.0000 - acc: 0.0000e+00 "
     ]
    },
    {
     "name": "stdout",
     "output_type": "stream",
     "text": [
      "\b\b\b\b\b\b\b\b\b\b\b\b\b\b\b\b\b\b\b\b\b\b\b\b\b\b\b\b\b\b\b\b\b\b\b\b\b\b\b\b\b\b\b\b\b\b\b\b\b\b\b\b\b\b\b\b\b\b\b\b\b\b\b\b\b\b\b\b\b\b\b\b\b\b\b\b\b\b\b\b\b\b\b\b\b\b\b\b\b\b\b\b\b\b\b\b\b\b\b\b\b\b\r 40/100 [===========>..................] - ETA: 0s - loss: 73798040405470609408.0000 - acc: 0.0000e+00"
     ]
    },
    {
     "name": "stdout",
     "output_type": "stream",
     "text": [
      "\b\b\b\b\b\b\b\b\b\b\b\b\b\b\b\b\b\b\b\b\b\b\b\b\b\b\b\b\b\b\b\b\b\b\b\b\b\b\b\b\b\b\b\b\b\b\b\b\b\b\b\b\b\b\b\b\b\b\b\b\b\b\b\b\b\b\b\b\b\b\b\b\b\b\b\b\b\b\b\b\b\b\b\b\b\b\b\b\b\b\b\b\b\b\b\b\b\b\b\b\b\b\r 50/100 [==============>...............] - ETA: 0s - loss: 59580355932110766080.0000 - acc: 0.0000e+00"
     ]
    },
    {
     "name": "stdout",
     "output_type": "stream",
     "text": [
      "\b\b\b\b\b\b\b\b\b\b\b\b\b\b\b\b\b\b\b\b\b\b\b\b\b\b\b\b\b\b\b\b\b\b\b\b\b\b\b\b\b\b\b\b\b\b\b\b\b\b\b\b\b\b\b\b\b\b\b\b\b\b\b\b\b\b\b\b\b\b\b\b\b\b\b\b\b\b\b\b\b\b\b\b\b\b\b\b\b\b\b\b\b\b\b\b\b\b\b\b\b\b\r 60/100 [=================>............] - ETA: 0s - loss: 49746412812762783744.0000 - acc: 0.0000e+00"
     ]
    },
    {
     "name": "stdout",
     "output_type": "stream",
     "text": [
      "\b\b\b\b\b\b\b\b\b\b\b\b\b\b\b\b\b\b\b\b\b\b\b\b\b\b\b\b\b\b\b\b\b\b\b\b\b\b\b\b\b\b\b\b\b\b\b\b\b\b\b\b\b\b\b\b\b\b\b\b\b\b\b\b\b\b\b\b\b\b\b\b\b\b\b\b\b\b\b\b\b\b\b\b\b\b\b\b\b\b\b\b\b\b\b\b\b\b\b\b\b\b\r 70/100 [====================>.........] - ETA: 0s - loss: 42723292537726509056.0000 - acc: 0.0000e+00"
     ]
    },
    {
     "name": "stdout",
     "output_type": "stream",
     "text": [
      "\b\b\b\b\b\b\b\b\b\b\b\b\b\b\b\b\b\b\b\b\b\b\b\b\b\b\b\b\b\b\b\b\b\b\b\b\b\b\b\b\b\b\b\b\b\b\b\b\b\b\b\b\b\b\b\b\b\b\b\b\b\b\b\b\b\b\b\b\b\b\b\b\b\b\b\b\b\b\b\b\b\b\b\b\b\b\b\b\b\b\b\b\b\b\b\b\b\b\b\b\b\b\r 80/100 [=======================>......] - ETA: 0s - loss: 37419090027307073536.0000 - acc: 0.0000e+00"
     ]
    },
    {
     "name": "stdout",
     "output_type": "stream",
     "text": [
      "\b\b\b\b\b\b\b\b\b\b\b\b\b\b\b\b\b\b\b\b\b\b\b\b\b\b\b\b\b\b\b\b\b\b\b\b\b\b\b\b\b\b\b\b\b\b\b\b\b\b\b\b\b\b\b\b\b\b\b\b\b\b\b\b\b\b\b\b\b\b\b\b\b\b\b\b\b\b\b\b\b\b\b\b\b\b\b\b\b\b\b\b\b\b\b\b\b\b\b\b\b\b\r 90/100 [==========================>...] - ETA: 0s - loss: 33311704504064688128.0000 - acc: 0.0000e+00"
     ]
    },
    {
     "name": "stdout",
     "output_type": "stream",
     "text": [
      "\b\b\b\b\b\b\b\b\b\b\b\b\b\b\b\b\b\b\b\b\b\b\b\b\b\b\b\b\b\b\b\b\b\b\b\b\b\b\b\b\b\b\b\b\b\b\b\b\b\b\b\b\b\b\b\b\b\b\b\b\b\b\b\b\b\b\b\b\b\b\b\b\b\b\b\b\b\b\b\b\b\b\b\b\b\b\b\b\b\b\b\b\b\b\b\b\b\b\b\b\b\b\r100/100 [==============================] - 0s - loss: 30010583204793155584.0000 - acc: 0.0000e+00 - val_loss: 6924494163281510.0000 - val_acc: 0.0000e+00"
     ]
    },
    {
     "name": "stdout",
     "output_type": "stream",
     "text": [
      "\nEpoch 6/12\n\r 10/100 [==>...........................] - ETA: 0s - loss: 138038230258810880.0000 - acc: 0.0000e+00"
     ]
    },
    {
     "name": "stdout",
     "output_type": "stream",
     "text": [
      "\b\b\b\b\b\b\b\b\b\b\b\b\b\b\b\b\b\b\b\b\b\b\b\b\b\b\b\b\b\b\b\b\b\b\b\b\b\b\b\b\b\b\b\b\b\b\b\b\b\b\b\b\b\b\b\b\b\b\b\b\b\b\b\b\b\b\b\b\b\b\b\b\b\b\b\b\b\b\b\b\b\b\b\b\b\b\b\b\b\b\b\b\b\b\b\b\b\b\b\b\r 20/100 [=====>........................] - ETA: 0s - loss: 246090875757658112.0000 - acc: 0.0000e+00"
     ]
    },
    {
     "name": "stdout",
     "output_type": "stream",
     "text": [
      "\b\b\b\b\b\b\b\b\b\b\b\b\b\b\b\b\b\b\b\b\b\b\b\b\b\b\b\b\b\b\b\b\b\b\b\b\b\b\b\b\b\b\b\b\b\b\b\b\b\b\b\b\b\b\b\b\b\b\b\b\b\b\b\b\b\b\b\b\b\b\b\b\b\b\b\b\b\b\b\b\b\b\b\b\b\b\b\b\b\b\b\b\b\b\b\b\b\b\b\b\r 30/100 [========>.....................] - ETA: 0s - loss: 211047485970317312.0000 - acc: 0.0000e+00"
     ]
    },
    {
     "name": "stdout",
     "output_type": "stream",
     "text": [
      "\b\b\b\b\b\b\b\b\b\b\b\b\b\b\b\b\b\b\b\b\b\b\b\b\b\b\b\b\b\b\b\b\b\b\b\b\b\b\b\b\b\b\b\b\b\b\b\b\b\b\b\b\b\b\b\b\b\b\b\b\b\b\b\b\b\b\b\b\b\b\b\b\b\b\b\b\b\b\b\b\b\b\b\b\b\b\b\b\b\b\b\b\b\b\b\b\b\b\b\b\r 40/100 [===========>..................] - ETA: 0s - loss: 248824263811792896.0000 - acc: 0.0000e+00"
     ]
    },
    {
     "name": "stdout",
     "output_type": "stream",
     "text": [
      "\b\b\b\b\b\b\b\b\b\b\b\b\b\b\b\b\b\b\b\b\b\b\b\b\b\b\b\b\b\b\b\b\b\b\b\b\b\b\b\b\b\b\b\b\b\b\b\b\b\b\b\b\b\b\b\b\b\b\b\b\b\b\b\b\b\b\b\b\b\b\b\b\b\b\b\b\b\b\b\b\b\b\b\b\b\b\b\b\b\b\b\b\b\b\b\b\b\b\b\b\r 50/100 [==============>...............] - ETA: 0s - loss: 272088650384775584.0000 - acc: 0.0000e+00"
     ]
    },
    {
     "name": "stdout",
     "output_type": "stream",
     "text": [
      "\b\b\b\b\b\b\b\b\b\b\b\b\b\b\b\b\b\b\b\b\b\b\b\b\b\b\b\b\b\b\b\b\b\b\b\b\b\b\b\b\b\b\b\b\b\b\b\b\b\b\b\b\b\b\b\b\b\b\b\b\b\b\b\b\b\b\b\b\b\b\b\b\b\b\b\b\b\b\b\b\b\b\b\b\b\b\b\b\b\b\b\b\b\b\b\b\b\b\b\b\r 60/100 [=================>............] - ETA: 0s - loss: 295099533528225088.0000 - acc: 0.0000e+00"
     ]
    },
    {
     "name": "stdout",
     "output_type": "stream",
     "text": [
      "\b\b\b\b\b\b\b\b\b\b\b\b\b\b\b\b\b\b\b\b\b\b\b\b\b\b\b\b\b\b\b\b\b\b\b\b\b\b\b\b\b\b\b\b\b\b\b\b\b\b\b\b\b\b\b\b\b\b\b\b\b\b\b\b\b\b\b\b\b\b\b\b\b\b\b\b\b\b\b\b\b\b\b\b\b\b\b\b\b\b\b\b\b\b\b\b\b\b\b\b\r 70/100 [====================>.........] - ETA: 0s - loss: 286899933949497920.0000 - acc: 0.0000e+00"
     ]
    },
    {
     "name": "stdout",
     "output_type": "stream",
     "text": [
      "\b\b\b\b\b\b\b\b\b\b\b\b\b\b\b\b\b\b\b\b\b\b\b\b\b\b\b\b\b\b\b\b\b\b\b\b\b\b\b\b\b\b\b\b\b\b\b\b\b\b\b\b\b\b\b\b\b\b\b\b\b\b\b\b\b\b\b\b\b\b\b\b\b\b\b\b\b\b\b\b\b\b\b\b\b\b\b\b\b\b\b\b\b\b\b\b\b\b\b\b\r 80/100 [=======================>......] - ETA: 0s - loss: 281243577831391232.0000 - acc: 0.0000e+00"
     ]
    },
    {
     "name": "stdout",
     "output_type": "stream",
     "text": [
      "\b\b\b\b\b\b\b\b\b\b\b\b\b\b\b\b\b\b\b\b\b\b\b\b\b\b\b\b\b\b\b\b\b\b\b\b\b\b\b\b\b\b\b\b\b\b\b\b\b\b\b\b\b\b\b\b\b\b\b\b\b\b\b\b\b\b\b\b\b\b\b\b\b\b\b\b\b\b\b\b\b\b\b\b\b\b\b\b\b\b\b\b\b\b\b\b\b\b\b\b\r 90/100 [==========================>...] - ETA: 0s - loss: 283998383575080064.0000 - acc: 0.0000e+00"
     ]
    },
    {
     "name": "stdout",
     "output_type": "stream",
     "text": [
      "\b\b\b\b\b\b\b\b\b\b\b\b\b\b\b\b\b\b\b\b\b\b\b\b\b\b\b\b\b\b\b\b\b\b\b\b\b\b\b\b\b\b\b\b\b\b\b\b\b\b\b\b\b\b\b\b\b\b\b\b\b\b\b\b\b\b\b\b\b\b\b\b\b\b\b\b\b\b\b\b\b\b\b\b\b\b\b\b\b\b\b\b\b\b\b\b\b\b\b\b\r100/100 [==============================] - 0s - loss: 283490805008144800.0000 - acc: 0.0000e+00 - val_loss: 4538560377683968.0000 - val_acc: 0.0000e+00"
     ]
    },
    {
     "name": "stdout",
     "output_type": "stream",
     "text": [
      "\nEpoch 7/12\n\r 10/100 [==>...........................] - ETA: 0s - loss: 190370783262932992.0000 - acc: 0.0000e+00"
     ]
    },
    {
     "name": "stdout",
     "output_type": "stream",
     "text": [
      "\b\b\b\b\b\b\b\b\b\b\b\b\b\b\b\b\b\b\b\b\b\b\b\b\b\b\b\b\b\b\b\b\b\b\b\b\b\b\b\b\b\b\b\b\b\b\b\b\b\b\b\b\b\b\b\b\b\b\b\b\b\b\b\b\b\b\b\b\b\b\b\b\b\b\b\b\b\b\b\b\b\b\b\b\b\b\b\b\b\b\b\b\b\b\b\b\b\b\b\b\r 20/100 [=====>........................] - ETA: 0s - loss: 186389443068821504.0000 - acc: 0.0000e+00"
     ]
    },
    {
     "name": "stdout",
     "output_type": "stream",
     "text": [
      "\b\b\b\b\b\b\b\b\b\b\b\b\b\b\b\b\b\b\b\b\b\b\b\b\b\b\b\b\b\b\b\b\b\b\b\b\b\b\b\b\b\b\b\b\b\b\b\b\b\b\b\b\b\b\b\b\b\b\b\b\b\b\b\b\b\b\b\b\b\b\b\b\b\b\b\b\b\b\b\b\b\b\b\b\b\b\b\b\b\b\b\b\b\b\b\b\b\b\b\b\r 30/100 [========>.....................] - ETA: 0s - loss: 186260682812598944.0000 - acc: 0.0000e+00"
     ]
    },
    {
     "name": "stdout",
     "output_type": "stream",
     "text": [
      "\b\b\b\b\b\b\b\b\b\b\b\b\b\b\b\b\b\b\b\b\b\b\b\b\b\b\b\b\b\b\b\b\b\b\b\b\b\b\b\b\b\b\b\b\b\b\b\b\b\b\b\b\b\b\b\b\b\b\b\b\b\b\b\b\b\b\b\b\b\b\b\b\b\b\b\b\b\b\b\b\b\b\b\b\b\b\b\b\b\b\b\b\b\b\b\b\b\b\b\b\r 40/100 [===========>..................] - ETA: 0s - loss: 208817234007556096.0000 - acc: 0.0000e+00"
     ]
    },
    {
     "name": "stdout",
     "output_type": "stream",
     "text": [
      "\b\b\b\b\b\b\b\b\b\b\b\b\b\b\b\b\b\b\b\b\b\b\b\b\b\b\b\b\b\b\b\b\b\b\b\b\b\b\b\b\b\b\b\b\b\b\b\b\b\b\b\b\b\b\b\b\b\b\b\b\b\b\b\b\b\b\b\b\b\b\b\b\b\b\b\b\b\b\b\b\b\b\b\b\b\b\b\b\b\b\b\b\b\b\b\b\b\b\b\b\r 50/100 [==============>...............] - ETA: 0s - loss: 212178256370073600.0000 - acc: 0.0000e+00"
     ]
    },
    {
     "name": "stdout",
     "output_type": "stream",
     "text": [
      "\b\b\b\b\b\b\b\b\b\b\b\b\b\b\b\b\b\b\b\b\b\b\b\b\b\b\b\b\b\b\b\b\b\b\b\b\b\b\b\b\b\b\b\b\b\b\b\b\b\b\b\b\b\b\b\b\b\b\b\b\b\b\b\b\b\b\b\b\b\b\b\b\b\b\b\b\b\b\b\b\b\b\b\b\b\b\b\b\b\b\b\b\b\b\b\b\b\b\b\b\r 60/100 [=================>............] - ETA: 0s - loss: 200820896823945888.0000 - acc: 0.0000e+00"
     ]
    },
    {
     "name": "stdout",
     "output_type": "stream",
     "text": [
      "\b\b\b\b\b\b\b\b\b\b\b\b\b\b\b\b\b\b\b\b\b\b\b\b\b\b\b\b\b\b\b\b\b\b\b\b\b\b\b\b\b\b\b\b\b\b\b\b\b\b\b\b\b\b\b\b\b\b\b\b\b\b\b\b\b\b\b\b\b\b\b\b\b\b\b\b\b\b\b\b\b\b\b\b\b\b\b\b\b\b\b\b\b\b\b\b\b\b\b\b\r 70/100 [====================>.........] - ETA: 0s - loss: 200644676361013536.0000 - acc: 0.0000e+00"
     ]
    },
    {
     "name": "stdout",
     "output_type": "stream",
     "text": [
      "\b\b\b\b\b\b\b\b\b\b\b\b\b\b\b\b\b\b\b\b\b\b\b\b\b\b\b\b\b\b\b\b\b\b\b\b\b\b\b\b\b\b\b\b\b\b\b\b\b\b\b\b\b\b\b\b\b\b\b\b\b\b\b\b\b\b\b\b\b\b\b\b\b\b\b\b\b\b\b\b\b\b\b\b\b\b\b\b\b\b\b\b\b\b\b\b\b\b\b\b\r 80/100 [=======================>......] - ETA: 0s - loss: 189964856240111616.0000 - acc: 0.0000e+00"
     ]
    },
    {
     "name": "stdout",
     "output_type": "stream",
     "text": [
      "\b\b\b\b\b\b\b\b\b\b\b\b\b\b\b\b\b\b\b\b\b\b\b\b\b\b\b\b\b\b\b\b\b\b\b\b\b\b\b\b\b\b\b\b\b\b\b\b\b\b\b\b\b\b\b\b\b\b\b\b\b\b\b\b\b\b\b\b\b\b\b\b\b\b\b\b\b\b\b\b\b\b\b\b\b\b\b\b\b\b\b\b\b\b\b\b\b\b\b\b\r 90/100 [==========================>...] - ETA: 0s - loss: 190826928832948896.0000 - acc: 0.0000e+00"
     ]
    },
    {
     "name": "stdout",
     "output_type": "stream",
     "text": [
      "\b\b\b\b\b\b\b\b\b\b\b\b\b\b\b\b\b\b\b\b\b\b\b\b\b\b\b\b\b\b\b\b\b\b\b\b\b\b\b\b\b\b\b\b\b\b\b\b\b\b\b\b\b\b\b\b\b\b\b\b\b\b\b\b\b\b\b\b\b\b\b\b\b\b\b\b\b\b\b\b\b\b\b\b\b\b\b\b\b\b\b\b\b\b\b\b\b\b\b\b\r100/100 [==============================] - 0s - loss: 196270871749748320.0000 - acc: 0.0000e+00 - val_loss: 3208528883187712.0000 - val_acc: 0.0000e+00"
     ]
    },
    {
     "name": "stdout",
     "output_type": "stream",
     "text": [
      "\nEpoch 8/12\n\r 10/100 [==>...........................] - ETA: 0s - loss: 60711501622673408.0000 - acc: 0.0000e+00"
     ]
    },
    {
     "name": "stdout",
     "output_type": "stream",
     "text": [
      "\b\b\b\b\b\b\b\b\b\b\b\b\b\b\b\b\b\b\b\b\b\b\b\b\b\b\b\b\b\b\b\b\b\b\b\b\b\b\b\b\b\b\b\b\b\b\b\b\b\b\b\b\b\b\b\b\b\b\b\b\b\b\b\b\b\b\b\b\b\b\b\b\b\b\b\b\b\b\b\b\b\b\b\b\b\b\b\b\b\b\b\b\b\b\b\b\b\b\b\r 20/100 [=====>........................] - ETA: 0s - loss: 114513264154509312.0000 - acc: 0.0000e+00"
     ]
    },
    {
     "name": "stdout",
     "output_type": "stream",
     "text": [
      "\b\b\b\b\b\b\b\b\b\b\b\b\b\b\b\b\b\b\b\b\b\b\b\b\b\b\b\b\b\b\b\b\b\b\b\b\b\b\b\b\b\b\b\b\b\b\b\b\b\b\b\b\b\b\b\b\b\b\b\b\b\b\b\b\b\b\b\b\b\b\b\b\b\b\b\b\b\b\b\b\b\b\b\b\b\b\b\b\b\b\b\b\b\b\b\b\b\b\b\b\r 30/100 [========>.....................] - ETA: 0s - loss: 135382405734902448.0000 - acc: 0.0000e+00"
     ]
    },
    {
     "name": "stdout",
     "output_type": "stream",
     "text": [
      "\b\b\b\b\b\b\b\b\b\b\b\b\b\b\b\b\b\b\b\b\b\b\b\b\b\b\b\b\b\b\b\b\b\b\b\b\b\b\b\b\b\b\b\b\b\b\b\b\b\b\b\b\b\b\b\b\b\b\b\b\b\b\b\b\b\b\b\b\b\b\b\b\b\b\b\b\b\b\b\b\b\b\b\b\b\b\b\b\b\b\b\b\b\b\b\b\b\b\b\b\r 40/100 [===========>..................] - ETA: 0s - loss: 156924273053663232.0000 - acc: 0.0000e+00"
     ]
    },
    {
     "name": "stdout",
     "output_type": "stream",
     "text": [
      "\b\b\b\b\b\b\b\b\b\b\b\b\b\b\b\b\b\b\b\b\b\b\b\b\b\b\b\b\b\b\b\b\b\b\b\b\b\b\b\b\b\b\b\b\b\b\b\b\b\b\b\b\b\b\b\b\b\b\b\b\b\b\b\b\b\b\b\b\b\b\b\b\b\b\b\b\b\b\b\b\b\b\b\b\b\b\b\b\b\b\b\b\b\b\b\b\b\b\b\b\r 50/100 [==============>...............] - ETA: 0s - loss: 136726303292470064.0000 - acc: 0.0000e+00"
     ]
    },
    {
     "name": "stdout",
     "output_type": "stream",
     "text": [
      "\b\b\b\b\b\b\b\b\b\b\b\b\b\b\b\b\b\b\b\b\b\b\b\b\b\b\b\b\b\b\b\b\b\b\b\b\b\b\b\b\b\b\b\b\b\b\b\b\b\b\b\b\b\b\b\b\b\b\b\b\b\b\b\b\b\b\b\b\b\b\b\b\b\b\b\b\b\b\b\b\b\b\b\b\b\b\b\b\b\b\b\b\b\b\b\b\b\b\b\b\r 60/100 [=================>............] - ETA: 0s - loss: 143957060264919040.0000 - acc: 0.0000e+00"
     ]
    },
    {
     "name": "stdout",
     "output_type": "stream",
     "text": [
      "\b\b\b\b\b\b\b\b\b\b\b\b\b\b\b\b\b\b\b\b\b\b\b\b\b\b\b\b\b\b\b\b\b\b\b\b\b\b\b\b\b\b\b\b\b\b\b\b\b\b\b\b\b\b\b\b\b\b\b\b\b\b\b\b\b\b\b\b\b\b\b\b\b\b\b\b\b\b\b\b\b\b\b\b\b\b\b\b\b\b\b\b\b\b\b\b\b\b\b\b\r 70/100 [====================>.........] - ETA: 0s - loss: 142428547055915600.0000 - acc: 0.0000e+00"
     ]
    },
    {
     "name": "stdout",
     "output_type": "stream",
     "text": [
      "\b\b\b\b\b\b\b\b\b\b\b\b\b\b\b\b\b\b\b\b\b\b\b\b\b\b\b\b\b\b\b\b\b\b\b\b\b\b\b\b\b\b\b\b\b\b\b\b\b\b\b\b\b\b\b\b\b\b\b\b\b\b\b\b\b\b\b\b\b\b\b\b\b\b\b\b\b\b\b\b\b\b\b\b\b\b\b\b\b\b\b\b\b\b\b\b\b\b\b\b\r 80/100 [=======================>......] - ETA: 0s - loss: 143857706933944320.0000 - acc: 0.0000e+00"
     ]
    },
    {
     "name": "stdout",
     "output_type": "stream",
     "text": [
      "\b\b\b\b\b\b\b\b\b\b\b\b\b\b\b\b\b\b\b\b\b\b\b\b\b\b\b\b\b\b\b\b\b\b\b\b\b\b\b\b\b\b\b\b\b\b\b\b\b\b\b\b\b\b\b\b\b\b\b\b\b\b\b\b\b\b\b\b\b\b\b\b\b\b\b\b\b\b\b\b\b\b\b\b\b\b\b\b\b\b\b\b\b\b\b\b\b\b\b\b\r 90/100 [==========================>...] - ETA: 0s - loss: 141260144834452592.0000 - acc: 0.0000e+00"
     ]
    },
    {
     "name": "stdout",
     "output_type": "stream",
     "text": [
      "\b\b\b\b\b\b\b\b\b\b\b\b\b\b\b\b\b\b\b\b\b\b\b\b\b\b\b\b\b\b\b\b\b\b\b\b\b\b\b\b\b\b\b\b\b\b\b\b\b\b\b\b\b\b\b\b\b\b\b\b\b\b\b\b\b\b\b\b\b\b\b\b\b\b\b\b\b\b\b\b\b\b\b\b\b\b\b\b\b\b\b\b\b\b\b\b\b\b\b\b\r100/100 [==============================] - 0s - loss: 139951240475207264.0000 - acc: 0.0000e+00 - val_loss: 2365567571502694.5000 - val_acc: 0.0000e+00"
     ]
    },
    {
     "name": "stdout",
     "output_type": "stream",
     "text": [
      "\nEpoch 9/12\n\r 10/100 [==>...........................] - ETA: 0s - loss: 179166244379820032.0000 - acc: 0.0000e+00"
     ]
    },
    {
     "name": "stdout",
     "output_type": "stream",
     "text": [
      "\b\b\b\b\b\b\b\b\b\b\b\b\b\b\b\b\b\b\b\b\b\b\b\b\b\b\b\b\b\b\b\b\b\b\b\b\b\b\b\b\b\b\b\b\b\b\b\b\b\b\b\b\b\b\b\b\b\b\b\b\b\b\b\b\b\b\b\b\b\b\b\b\b\b\b\b\b\b\b\b\b\b\b\b\b\b\b\b\b\b\b\b\b\b\b\b\b\b\b\b\r 20/100 [=====>........................] - ETA: 0s - loss: 134116414016454656.0000 - acc: 0.0000e+00"
     ]
    },
    {
     "name": "stdout",
     "output_type": "stream",
     "text": [
      "\b\b\b\b\b\b\b\b\b\b\b\b\b\b\b\b\b\b\b\b\b\b\b\b\b\b\b\b\b\b\b\b\b\b\b\b\b\b\b\b\b\b\b\b\b\b\b\b\b\b\b\b\b\b\b\b\b\b\b\b\b\b\b\b\b\b\b\b\b\b\b\b\b\b\b\b\b\b\b\b\b\b\b\b\b\b\b\b\b\b\b\b\b\b\b\b\b\b\b\b\r 30/100 [========>.....................] - ETA: 0s - loss: 146677751679898976.0000 - acc: 0.0000e+00"
     ]
    },
    {
     "name": "stdout",
     "output_type": "stream",
     "text": [
      "\b\b\b\b\b\b\b\b\b\b\b\b\b\b\b\b\b\b\b\b\b\b\b\b\b\b\b\b\b\b\b\b\b\b\b\b\b\b\b\b\b\b\b\b\b\b\b\b\b\b\b\b\b\b\b\b\b\b\b\b\b\b\b\b\b\b\b\b\b\b\b\b\b\b\b\b\b\b\b\b\b\b\b\b\b\b\b\b\b\b\b\b\b\b\b\b\b\b\b\b\r 40/100 [===========>..................] - ETA: 0s - loss: 128863273876455424.0000 - acc: 0.0000e+00"
     ]
    },
    {
     "name": "stdout",
     "output_type": "stream",
     "text": [
      "\b\b\b\b\b\b\b\b\b\b\b\b\b\b\b\b\b\b\b\b\b\b\b\b\b\b\b\b\b\b\b\b\b\b\b\b\b\b\b\b\b\b\b\b\b\b\b\b\b\b\b\b\b\b\b\b\b\b\b\b\b\b\b\b\b\b\b\b\b\b\b\b\b\b\b\b\b\b\b\b\b\b\b\b\b\b\b\b\b\b\b\b\b\b\b\b\b\b\b\b\r 50/100 [==============>...............] - ETA: 0s - loss: 112231846246350848.0000 - acc: 0.0000e+00"
     ]
    },
    {
     "name": "stdout",
     "output_type": "stream",
     "text": [
      "\b\b\b\b\b\b\b\b\b\b\b\b\b\b\b\b\b\b\b\b\b\b\b\b\b\b\b\b\b\b\b\b\b\b\b\b\b\b\b\b\b\b\b\b\b\b\b\b\b\b\b\b\b\b\b\b\b\b\b\b\b\b\b\b\b\b\b\b\b\b\b\b\b\b\b\b\b\b\b\b\b\b\b\b\b\b\b\b\b\b\b\b\b\b\b\b\b\b\b\b\r 60/100 [=================>............] - ETA: 0s - loss: 126927150579886768.0000 - acc: 0.0000e+00"
     ]
    },
    {
     "name": "stdout",
     "output_type": "stream",
     "text": [
      "\b\b\b\b\b\b\b\b\b\b\b\b\b\b\b\b\b\b\b\b\b\b\b\b\b\b\b\b\b\b\b\b\b\b\b\b\b\b\b\b\b\b\b\b\b\b\b\b\b\b\b\b\b\b\b\b\b\b\b\b\b\b\b\b\b\b\b\b\b\b\b\b\b\b\b\b\b\b\b\b\b\b\b\b\b\b\b\b\b\b\b\b\b\b\b\b\b\b\b\b\r 70/100 [====================>.........] - ETA: 0s - loss: 117836950979889440.0000 - acc: 0.0000e+00"
     ]
    },
    {
     "name": "stdout",
     "output_type": "stream",
     "text": [
      "\b\b\b\b\b\b\b\b\b\b\b\b\b\b\b\b\b\b\b\b\b\b\b\b\b\b\b\b\b\b\b\b\b\b\b\b\b\b\b\b\b\b\b\b\b\b\b\b\b\b\b\b\b\b\b\b\b\b\b\b\b\b\b\b\b\b\b\b\b\b\b\b\b\b\b\b\b\b\b\b\b\b\b\b\b\b\b\b\b\b\b\b\b\b\b\b\b\b\b\b\r 80/100 [=======================>......] - ETA: 0s - loss: 115865457298243584.0000 - acc: 0.0000e+00"
     ]
    },
    {
     "name": "stdout",
     "output_type": "stream",
     "text": [
      "\b\b\b\b\b\b\b\b\b\b\b\b\b\b\b\b\b\b\b\b\b\b\b\b\b\b\b\b\b\b\b\b\b\b\b\b\b\b\b\b\b\b\b\b\b\b\b\b\b\b\b\b\b\b\b\b\b\b\b\b\b\b\b\b\b\b\b\b\b\b\b\b\b\b\b\b\b\b\b\b\b\b\b\b\b\b\b\b\b\b\b\b\b\b\b\b\b\b\b\b\r 90/100 [==========================>...] - ETA: 0s - loss: 105756149869386864.0000 - acc: 0.0000e+00"
     ]
    },
    {
     "name": "stdout",
     "output_type": "stream",
     "text": [
      "\b\b\b\b\b\b\b\b\b\b\b\b\b\b\b\b\b\b\b\b\b\b\b\b\b\b\b\b\b\b\b\b\b\b\b\b\b\b\b\b\b\b\b\b\b\b\b\b\b\b\b\b\b\b\b\b\b\b\b\b\b\b\b\b\b\b\b\b\b\b\b\b\b\b\b\b\b\b\b\b\b\b\b\b\b\b\b\b\b\b\b\b\b\b\b\b\b\b\b\b\r100/100 [==============================] - 0s - loss: 103473485370831664.0000 - acc: 0.0000e+00 - val_loss: 1809704957489971.2500 - val_acc: 0.0000e+00"
     ]
    },
    {
     "name": "stdout",
     "output_type": "stream",
     "text": [
      "\nEpoch 10/12\n\r 10/100 [==>...........................] - ETA: 0s - loss: 104920364504580096.0000 - acc: 0.0000e+00"
     ]
    },
    {
     "name": "stdout",
     "output_type": "stream",
     "text": [
      "\b\b\b\b\b\b\b\b\b\b\b\b\b\b\b\b\b\b\b\b\b\b\b\b\b\b\b\b\b\b\b\b\b\b\b\b\b\b\b\b\b\b\b\b\b\b\b\b\b\b\b\b\b\b\b\b\b\b\b\b\b\b\b\b\b\b\b\b\b\b\b\b\b\b\b\b\b\b\b\b\b\b\b\b\b\b\b\b\b\b\b\b\b\b\b\b\b\b\b\b\r 20/100 [=====>........................] - ETA: 0s - loss: 64586135501799424.0000 - acc: 0.0000e+00 "
     ]
    },
    {
     "name": "stdout",
     "output_type": "stream",
     "text": [
      "\b\b\b\b\b\b\b\b\b\b\b\b\b\b\b\b\b\b\b\b\b\b\b\b\b\b\b\b\b\b\b\b\b\b\b\b\b\b\b\b\b\b\b\b\b\b\b\b\b\b\b\b\b\b\b\b\b\b\b\b\b\b\b\b\b\b\b\b\b\b\b\b\b\b\b\b\b\b\b\b\b\b\b\b\b\b\b\b\b\b\b\b\b\b\b\b\b\b\b\r 30/100 [========>.....................] - ETA: 0s - loss: 57511730943972696.0000 - acc: 0.0000e+00"
     ]
    },
    {
     "name": "stdout",
     "output_type": "stream",
     "text": [
      "\b\b\b\b\b\b\b\b\b\b\b\b\b\b\b\b\b\b\b\b\b\b\b\b\b\b\b\b\b\b\b\b\b\b\b\b\b\b\b\b\b\b\b\b\b\b\b\b\b\b\b\b\b\b\b\b\b\b\b\b\b\b\b\b\b\b\b\b\b\b\b\b\b\b\b\b\b\b\b\b\b\b\b\b\b\b\b\b\b\b\b\b\b\b\b\b\b\b\b\r 40/100 [===========>..................] - ETA: 0s - loss: 68544675862020096.0000 - acc: 0.0000e+00"
     ]
    },
    {
     "name": "stdout",
     "output_type": "stream",
     "text": [
      "\b\b\b\b\b\b\b\b\b\b\b\b\b\b\b\b\b\b\b\b\b\b\b\b\b\b\b\b\b\b\b\b\b\b\b\b\b\b\b\b\b\b\b\b\b\b\b\b\b\b\b\b\b\b\b\b\b\b\b\b\b\b\b\b\b\b\b\b\b\b\b\b\b\b\b\b\b\b\b\b\b\b\b\b\b\b\b\b\b\b\b\b\b\b\b\b\b\b\b\r 50/100 [==============>...............] - ETA: 0s - loss: 74232239059107840.0000 - acc: 0.0000e+00"
     ]
    },
    {
     "name": "stdout",
     "output_type": "stream",
     "text": [
      "\b\b\b\b\b\b\b\b\b\b\b\b\b\b\b\b\b\b\b\b\b\b\b\b\b\b\b\b\b\b\b\b\b\b\b\b\b\b\b\b\b\b\b\b\b\b\b\b\b\b\b\b\b\b\b\b\b\b\b\b\b\b\b\b\b\b\b\b\b\b\b\b\b\b\b\b\b\b\b\b\b\b\b\b\b\b\b\b\b\b\b\b\b\b\b\b\b\b\b\r 60/100 [=================>............] - ETA: 0s - loss: 80536881682448384.0000 - acc: 0.0000e+00"
     ]
    },
    {
     "name": "stdout",
     "output_type": "stream",
     "text": [
      "\b\b\b\b\b\b\b\b\b\b\b\b\b\b\b\b\b\b\b\b\b\b\b\b\b\b\b\b\b\b\b\b\b\b\b\b\b\b\b\b\b\b\b\b\b\b\b\b\b\b\b\b\b\b\b\b\b\b\b\b\b\b\b\b\b\b\b\b\b\b\b\b\b\b\b\b\b\b\b\b\b\b\b\b\b\b\b\b\b\b\b\b\b\b\b\b\b\b\b\r 70/100 [====================>.........] - ETA: 0s - loss: 75746653117612032.0000 - acc: 0.0000e+00"
     ]
    },
    {
     "name": "stdout",
     "output_type": "stream",
     "text": [
      "\b\b\b\b\b\b\b\b\b\b\b\b\b\b\b\b\b\b\b\b\b\b\b\b\b\b\b\b\b\b\b\b\b\b\b\b\b\b\b\b\b\b\b\b\b\b\b\b\b\b\b\b\b\b\b\b\b\b\b\b\b\b\b\b\b\b\b\b\b\b\b\b\b\b\b\b\b\b\b\b\b\b\b\b\b\b\b\b\b\b\b\b\b\b\b\b\b\b\b\r 80/100 [=======================>......] - ETA: 0s - loss: 82190313094905856.0000 - acc: 0.0000e+00"
     ]
    },
    {
     "name": "stdout",
     "output_type": "stream",
     "text": [
      "\b\b\b\b\b\b\b\b\b\b\b\b\b\b\b\b\b\b\b\b\b\b\b\b\b\b\b\b\b\b\b\b\b\b\b\b\b\b\b\b\b\b\b\b\b\b\b\b\b\b\b\b\b\b\b\b\b\b\b\b\b\b\b\b\b\b\b\b\b\b\b\b\b\b\b\b\b\b\b\b\b\b\b\b\b\b\b\b\b\b\b\b\b\b\b\b\b\b\b\r 90/100 [==========================>...] - ETA: 0s - loss: 88062351579807744.0000 - acc: 0.0000e+00"
     ]
    },
    {
     "name": "stdout",
     "output_type": "stream",
     "text": [
      "\b\b\b\b\b\b\b\b\b\b\b\b\b\b\b\b\b\b\b\b\b\b\b\b\b\b\b\b\b\b\b\b\b\b\b\b\b\b\b\b\b\b\b\b\b\b\b\b\b\b\b\b\b\b\b\b\b\b\b\b\b\b\b\b\b\b\b\b\b\b\b\b\b\b\b\b\b\b\b\b\b\b\b\b\b\b\b\b\b\b\b\b\b\b\b\b\b\b\b\r100/100 [==============================] - 0s - loss: 84316694709587152.0000 - acc: 0.0000e+00 - val_loss: 1464304754461900.7500 - val_acc: 0.0000e+00"
     ]
    },
    {
     "name": "stdout",
     "output_type": "stream",
     "text": [
      "\nEpoch 11/12\n\r 10/100 [==>...........................] - ETA: 0s - loss: 62898507559731200.0000 - acc: 0.0000e+00"
     ]
    },
    {
     "name": "stdout",
     "output_type": "stream",
     "text": [
      "\b\b\b\b\b\b\b\b\b\b\b\b\b\b\b\b\b\b\b\b\b\b\b\b\b\b\b\b\b\b\b\b\b\b\b\b\b\b\b\b\b\b\b\b\b\b\b\b\b\b\b\b\b\b\b\b\b\b\b\b\b\b\b\b\b\b\b\b\b\b\b\b\b\b\b\b\b\b\b\b\b\b\b\b\b\b\b\b\b\b\b\b\b\b\b\b\b\b\b\r 20/100 [=====>........................] - ETA: 0s - loss: 46536291700965376.0000 - acc: 0.0000e+00"
     ]
    },
    {
     "name": "stdout",
     "output_type": "stream",
     "text": [
      "\b\b\b\b\b\b\b\b\b\b\b\b\b\b\b\b\b\b\b\b\b\b\b\b\b\b\b\b\b\b\b\b\b\b\b\b\b\b\b\b\b\b\b\b\b\b\b\b\b\b\b\b\b\b\b\b\b\b\b\b\b\b\b\b\b\b\b\b\b\b\b\b\b\b\b\b\b\b\b\b\b\b\b\b\b\b\b\b\b\b\b\b\b\b\b\b\b\b\b\r 30/100 [========>.....................] - ETA: 0s - loss: 60987701663716696.0000 - acc: 0.0000e+00"
     ]
    },
    {
     "name": "stdout",
     "output_type": "stream",
     "text": [
      "\b\b\b\b\b\b\b\b\b\b\b\b\b\b\b\b\b\b\b\b\b\b\b\b\b\b\b\b\b\b\b\b\b\b\b\b\b\b\b\b\b\b\b\b\b\b\b\b\b\b\b\b\b\b\b\b\b\b\b\b\b\b\b\b\b\b\b\b\b\b\b\b\b\b\b\b\b\b\b\b\b\b\b\b\b\b\b\b\b\b\b\b\b\b\b\b\b\b\b\r 40/100 [===========>..................] - ETA: 0s - loss: 67316104225095680.0000 - acc: 0.0000e+00"
     ]
    },
    {
     "name": "stdout",
     "output_type": "stream",
     "text": [
      "\b\b\b\b\b\b\b\b\b\b\b\b\b\b\b\b\b\b\b\b\b\b\b\b\b\b\b\b\b\b\b\b\b\b\b\b\b\b\b\b\b\b\b\b\b\b\b\b\b\b\b\b\b\b\b\b\b\b\b\b\b\b\b\b\b\b\b\b\b\b\b\b\b\b\b\b\b\b\b\b\b\b\b\b\b\b\b\b\b\b\b\b\b\b\b\b\b\b\b\r 50/100 [==============>...............] - ETA: 0s - loss: 62637893668673944.0000 - acc: 0.0000e+00"
     ]
    },
    {
     "name": "stdout",
     "output_type": "stream",
     "text": [
      "\b\b\b\b\b\b\b\b\b\b\b\b\b\b\b\b\b\b\b\b\b\b\b\b\b\b\b\b\b\b\b\b\b\b\b\b\b\b\b\b\b\b\b\b\b\b\b\b\b\b\b\b\b\b\b\b\b\b\b\b\b\b\b\b\b\b\b\b\b\b\b\b\b\b\b\b\b\b\b\b\b\b\b\b\b\b\b\b\b\b\b\b\b\b\b\b\b\b\b\r 60/100 [=================>............] - ETA: 0s - loss: 68409839300815528.0000 - acc: 0.0000e+00"
     ]
    },
    {
     "name": "stdout",
     "output_type": "stream",
     "text": [
      "\b\b\b\b\b\b\b\b\b\b\b\b\b\b\b\b\b\b\b\b\b\b\b\b\b\b\b\b\b\b\b\b\b\b\b\b\b\b\b\b\b\b\b\b\b\b\b\b\b\b\b\b\b\b\b\b\b\b\b\b\b\b\b\b\b\b\b\b\b\b\b\b\b\b\b\b\b\b\b\b\b\b\b\b\b\b\b\b\b\b\b\b\b\b\b\b\b\b\b\r 70/100 [====================>.........] - ETA: 0s - loss: 76499965531876784.0000 - acc: 0.0000e+00"
     ]
    },
    {
     "name": "stdout",
     "output_type": "stream",
     "text": [
      "\b\b\b\b\b\b\b\b\b\b\b\b\b\b\b\b\b\b\b\b\b\b\b\b\b\b\b\b\b\b\b\b\b\b\b\b\b\b\b\b\b\b\b\b\b\b\b\b\b\b\b\b\b\b\b\b\b\b\b\b\b\b\b\b\b\b\b\b\b\b\b\b\b\b\b\b\b\b\b\b\b\b\b\b\b\b\b\b\b\b\b\b\b\b\b\b\b\b\b\r 80/100 [=======================>......] - ETA: 0s - loss: 75068590256029696.0000 - acc: 0.0000e+00"
     ]
    },
    {
     "name": "stdout",
     "output_type": "stream",
     "text": [
      "\b\b\b\b\b\b\b\b\b\b\b\b\b\b\b\b\b\b\b\b\b\b\b\b\b\b\b\b\b\b\b\b\b\b\b\b\b\b\b\b\b\b\b\b\b\b\b\b\b\b\b\b\b\b\b\b\b\b\b\b\b\b\b\b\b\b\b\b\b\b\b\b\b\b\b\b\b\b\b\b\b\b\b\b\b\b\b\b\b\b\b\b\b\b\b\b\b\b\b\r 90/100 [==========================>...] - ETA: 0s - loss: 68065307642444000.0000 - acc: 0.0000e+00"
     ]
    },
    {
     "name": "stdout",
     "output_type": "stream",
     "text": [
      "\b\b\b\b\b\b\b\b\b\b\b\b\b\b\b\b\b\b\b\b\b\b\b\b\b\b\b\b\b\b\b\b\b\b\b\b\b\b\b\b\b\b\b\b\b\b\b\b\b\b\b\b\b\b\b\b\b\b\b\b\b\b\b\b\b\b\b\b\b\b\b\b\b\b\b\b\b\b\b\b\b\b\b\b\b\b\b\b\b\b\b\b\b\b\b\b\b\b\b\r100/100 [==============================] - 0s - loss: 69070970202305328.0000 - acc: 0.0000e+00 - val_loss: 1230020877251379.2500 - val_acc: 0.0000e+00"
     ]
    },
    {
     "name": "stdout",
     "output_type": "stream",
     "text": [
      "\nEpoch 12/12\n\r 10/100 [==>...........................] - ETA: 0s - loss: 59247931387019264.0000 - acc: 0.0000e+00"
     ]
    },
    {
     "name": "stdout",
     "output_type": "stream",
     "text": [
      "\b\b\b\b\b\b\b\b\b\b\b\b\b\b\b\b\b\b\b\b\b\b\b\b\b\b\b\b\b\b\b\b\b\b\b\b\b\b\b\b\b\b\b\b\b\b\b\b\b\b\b\b\b\b\b\b\b\b\b\b\b\b\b\b\b\b\b\b\b\b\b\b\b\b\b\b\b\b\b\b\b\b\b\b\b\b\b\b\b\b\b\b\b\b\b\b\b\b\b\r 20/100 [=====>........................] - ETA: 0s - loss: 57568161087619072.0000 - acc: 0.0000e+00"
     ]
    },
    {
     "name": "stdout",
     "output_type": "stream",
     "text": [
      "\b\b\b\b\b\b\b\b\b\b\b\b\b\b\b\b\b\b\b\b\b\b\b\b\b\b\b\b\b\b\b\b\b\b\b\b\b\b\b\b\b\b\b\b\b\b\b\b\b\b\b\b\b\b\b\b\b\b\b\b\b\b\b\b\b\b\b\b\b\b\b\b\b\b\b\b\b\b\b\b\b\b\b\b\b\b\b\b\b\b\b\b\b\b\b\b\b\b\b\r 30/100 [========>.....................] - ETA: 0s - loss: 50087988778674856.0000 - acc: 0.0000e+00"
     ]
    },
    {
     "name": "stdout",
     "output_type": "stream",
     "text": [
      "\b\b\b\b\b\b\b\b\b\b\b\b\b\b\b\b\b\b\b\b\b\b\b\b\b\b\b\b\b\b\b\b\b\b\b\b\b\b\b\b\b\b\b\b\b\b\b\b\b\b\b\b\b\b\b\b\b\b\b\b\b\b\b\b\b\b\b\b\b\b\b\b\b\b\b\b\b\b\b\b\b\b\b\b\b\b\b\b\b\b\b\b\b\b\b\b\b\b\b\r 40/100 [===========>..................] - ETA: 0s - loss: 43021649632559104.0000 - acc: 0.0000e+00"
     ]
    },
    {
     "name": "stdout",
     "output_type": "stream",
     "text": [
      "\b\b\b\b\b\b\b\b\b\b\b\b\b\b\b\b\b\b\b\b\b\b\b\b\b\b\b\b\b\b\b\b\b\b\b\b\b\b\b\b\b\b\b\b\b\b\b\b\b\b\b\b\b\b\b\b\b\b\b\b\b\b\b\b\b\b\b\b\b\b\b\b\b\b\b\b\b\b\b\b\b\b\b\b\b\b\b\b\b\b\b\b\b\b\b\b\b\b\b\r 50/100 [==============>...............] - ETA: 0s - loss: 44256160350260432.0000 - acc: 0.0000e+00"
     ]
    },
    {
     "name": "stdout",
     "output_type": "stream",
     "text": [
      "\b\b\b\b\b\b\b\b\b\b\b\b\b\b\b\b\b\b\b\b\b\b\b\b\b\b\b\b\b\b\b\b\b\b\b\b\b\b\b\b\b\b\b\b\b\b\b\b\b\b\b\b\b\b\b\b\b\b\b\b\b\b\b\b\b\b\b\b\b\b\b\b\b\b\b\b\b\b\b\b\b\b\b\b\b\b\b\b\b\b\b\b\b\b\b\b\b\b\b\r 60/100 [=================>............] - ETA: 0s - loss: 45331614935635288.0000 - acc: 0.0000e+00"
     ]
    },
    {
     "name": "stdout",
     "output_type": "stream",
     "text": [
      "\b\b\b\b\b\b\b\b\b\b\b\b\b\b\b\b\b\b\b\b\b\b\b\b\b\b\b\b\b\b\b\b\b\b\b\b\b\b\b\b\b\b\b\b\b\b\b\b\b\b\b\b\b\b\b\b\b\b\b\b\b\b\b\b\b\b\b\b\b\b\b\b\b\b\b\b\b\b\b\b\b\b\b\b\b\b\b\b\b\b\b\b\b\b\b\b\b\b\b\r 70/100 [====================>.........] - ETA: 0s - loss: 46724461120829144.0000 - acc: 0.0000e+00"
     ]
    },
    {
     "name": "stdout",
     "output_type": "stream",
     "text": [
      "\b\b\b\b\b\b\b\b\b\b\b\b\b\b\b\b\b\b\b\b\b\b\b\b\b\b\b\b\b\b\b\b\b\b\b\b\b\b\b\b\b\b\b\b\b\b\b\b\b\b\b\b\b\b\b\b\b\b\b\b\b\b\b\b\b\b\b\b\b\b\b\b\b\b\b\b\b\b\b\b\b\b\b\b\b\b\b\b\b\b\b\b\b\b\b\b\b\b\b\r 80/100 [=======================>......] - ETA: 0s - loss: 44485726942789632.0000 - acc: 0.0000e+00"
     ]
    },
    {
     "name": "stdout",
     "output_type": "stream",
     "text": [
      "\b\b\b\b\b\b\b\b\b\b\b\b\b\b\b\b\b\b\b\b\b\b\b\b\b\b\b\b\b\b\b\b\b\b\b\b\b\b\b\b\b\b\b\b\b\b\b\b\b\b\b\b\b\b\b\b\b\b\b\b\b\b\b\b\b\b\b\b\b\b\b\b\b\b\b\b\b\b\b\b\b\b\b\b\b\b\b\b\b\b\b\b\b\b\b\b\b\b\b\r 90/100 [==========================>...] - ETA: 0s - loss: 54920195160815840.0000 - acc: 0.0000e+00"
     ]
    },
    {
     "name": "stdout",
     "output_type": "stream",
     "text": [
      "\b\b\b\b\b\b\b\b\b\b\b\b\b\b\b\b\b\b\b\b\b\b\b\b\b\b\b\b\b\b\b\b\b\b\b\b\b\b\b\b\b\b\b\b\b\b\b\b\b\b\b\b\b\b\b\b\b\b\b\b\b\b\b\b\b\b\b\b\b\b\b\b\b\b\b\b\b\b\b\b\b\b\b\b\b\b\b\b\b\b\b\b\b\b\b\b\b\b\b\r100/100 [==============================] - 0s - loss: 58552641250551400.0000 - acc: 0.0000e+00 - val_loss: 1097260644610867.2500 - val_acc: 0.0000e+00"
     ]
    },
    {
     "name": "stdout",
     "output_type": "stream",
     "text": [
      "\n"
     ]
    },
    {
     "data": {
      "text/plain": [
       "<keras.callbacks.History at 0x11a047c50>"
      ]
     },
     "execution_count": 10,
     "output_type": "execute_result",
     "metadata": {}
    }
   ],
   "source": [
    "\n",
    "from __future__ import print_function\n",
    "import numpy as np\n",
    "np.random.seed(1337)  # for reproducibility\n",
    "\n",
    "#import layers\n",
    "from keras.datasets import mnist\n",
    "from keras.models import Sequential\n",
    "from keras.layers.core import Dense, Dropout, Activation, Flatten, AutoEncoder\n",
    "from keras.layers.core import ActivityRegularization\n",
    "from keras.layers.convolutional import Convolution2D, MaxPooling2D\n",
    "from keras.utils import np_utils\n",
    "from keras.layers import containers\n",
    "from keras.regularizers import l2\n",
    "\n",
    "\n",
    "#import visualization lib\n",
    "from keras.utils.visualize_util import plot\n",
    "import theano\n",
    "\n",
    "\n",
    "\n",
    "\n",
    "\n",
    "\n",
    "\n",
    "\n",
    "import os\n",
    "import os.path\n",
    "import scipy.io as matio\n",
    "import cv2\n",
    "from read_data import read_data\n",
    "\n",
    "data_import = read_data('./avletters/Lips/');\n",
    "first_sequence = matio.loadmat('./avletters/Lips/A1_Anya-lips.mat')\n",
    "index=0\n",
    "a =  os.walk('./avletters/Lips/')\n",
    "#For each directory in the tree rooted at directory top (including top itself), it yields a 3-tuple (dirpath, dirnames, filenames)\n",
    "for i in a:\n",
    "\t\tfor file_name in i[2]:\n",
    "\t\t\tcc = 1\n",
    "\t\t\tprint (file_name)\n",
    "\n",
    "#assign 'vid' element in \"dict\" structure to data\n",
    "data = first_sequence['vid']\n",
    "first_img = data[:,1]\n",
    "first_img = first_img.reshape((80,60))\n",
    "\n",
    "batch_size = 10\n",
    "nb_epoch = 12\n",
    "\n",
    "# input image dimensions\n",
    "# build teaching signal for auto-encoder\n",
    "\n",
    "\n",
    "\n",
    "\n",
    "#aaaa = np.array([[2,3,4,5,6,7],[1,2,3,4,5,6]])\n",
    "#test = aaaa[:,1]\n",
    "\n",
    "\n",
    "\n",
    "a = range(100)\n",
    "data_import = data_import[a,:,:]        # should use ndarray (np.array)\n",
    "X_test = data_import\n",
    "X_train = data_import\n",
    "X_train = X_train.astype('float32')\n",
    "X_test = X_test.astype('float32')\n",
    "X_train /= 255\n",
    "X_test /= 255\n",
    "\n",
    "\n",
    "Y_train = X_train\n",
    "Y_test = X_test\n",
    "\n",
    "num_sample = X_train.shape[0]\n",
    "num_dim = X_train.shape[1]*X_train.shape[2]\n",
    "num_hidden = 100\n",
    "\n",
    "#X_train = X_train.reshape(X_train.shape[0], 1, img_rows, img_cols)\n",
    "#X_test = X_test.reshape(X_test.shape[0], 1, img_rows, img_cols)\n",
    "\n",
    "\n",
    "model = Sequential()\n",
    "\n",
    "\n",
    "\n",
    "model.add(Dense(num_hidden,'glorot_uniform','linear',None,l2(0.01),None,None,None,None,80*60))\n",
    "model.add(Activation('sigmoid'))\n",
    "model.add(Dense(80*60,'glorot_uniform','linear',None,l2(0.01),None,None,None,None))\n",
    "model.add(Activation('linear'))\n",
    "\n",
    "\n",
    "\n",
    "encoder = containers.Sequential([Dense(num_sample, input_dim=num_dim), Dense(num_hidden)])\n",
    "decoder = containers.Sequential([Dense(num_sample, input_dim=num_hidden), Dense(num_dim)])\n",
    "\n",
    "\n",
    "#model.add(AutoEncoder(encoder=encoder, decoder=decoder,output_reconstruction=True))\n",
    "#model.add(ActivityRegularization(0.01,0.01))        #add regularization terms on activity?? or weight\n",
    "model.compile(loss='mean_squared_error', optimizer='adadelta')\n",
    "\n",
    "\n",
    "\n",
    "\n",
    "\n",
    "X_train = X_train.reshape(X_train.shape[0],X_train.shape[1]*X_train.shape[2])\n",
    "Y_train = X_train\n",
    "\n",
    "model.fit(X_train, Y_train, batch_size=batch_size, nb_epoch=nb_epoch,\n",
    "          show_accuracy=True, verbose=1, validation_data=(X_train, Y_train))"
   ]
  },
  {
   "cell_type": "code",
   "execution_count": 11,
   "metadata": {},
   "outputs": [],
   "source": [
    "out_x = model.predict(X_train, 10, verbose=0)\n",
    "for ii in range(out_x.shape[0]):\n",
    "    out = out_x[ii][:]\n",
    "    out = out.reshape(60,80)\n",
    "    cv2.namedWindow('111')\n",
    "    cv2.imshow('111',out)\n",
    "    cv2.waitKey()\n",
    "    cv2.destroyAllWindows()"
   ]
  },
  {
   "cell_type": "code",
   "execution_count": null,
   "metadata": {},
   "outputs": [],
   "source": [
    ""
   ]
  }
 ],
 "metadata": {},
 "nbformat": 4,
 "nbformat_minor": 0
}